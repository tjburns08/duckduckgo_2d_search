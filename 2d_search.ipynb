{
 "cells": [
  {
   "cell_type": "code",
   "execution_count": 17,
   "id": "03461f50-dce5-42db-9949-555ad4032885",
   "metadata": {},
   "outputs": [],
   "source": [
    "from duckduckgo_search import ddg\n",
    "import pandas as pd\n",
    "\n",
    "clust_method = 'kmeans'\n",
    "keywords = 'lesswrong'\n",
    "md = ddg(keywords, region='wt-wt', safesearch='Moderate', time='y', max_results=500)\n",
    "md = pd.DataFrame(md)"
   ]
  },
  {
   "cell_type": "code",
   "execution_count": 18,
   "id": "d756011d-f8e1-4812-a0bb-bedf5ec228ce",
   "metadata": {},
   "outputs": [
    {
     "data": {
      "application/vnd.jupyter.widget-view+json": {
       "model_id": "a09c799608714d2bb31ec8dfaac8629d",
       "version_major": 2,
       "version_minor": 0
      },
      "text/plain": [
       "Batches:   0%|          | 0/6 [00:00<?, ?it/s]"
      ]
     },
     "metadata": {},
     "output_type": "display_data"
    }
   ],
   "source": [
    "from sentence_transformers import SentenceTransformer\n",
    "\n",
    "model_name = 'all-mpnet-base-v2'\n",
    "model = SentenceTransformer(model_name)\n",
    "\n",
    "sentence_embeddings = model.encode(md['body'].tolist(), show_progress_bar = True)\n",
    "sentence_embeddings = pd.DataFrame(sentence_embeddings)"
   ]
  },
  {
   "cell_type": "code",
   "execution_count": 19,
   "id": "c9900dd4-1aeb-472b-94a8-76b3a0987914",
   "metadata": {},
   "outputs": [],
   "source": [
    "import umap.umap_ as umap\n",
    "import matplotlib.pyplot as plt\n",
    "reducer = umap.UMAP(metric = 'cosine')\n",
    "dimr = reducer.fit_transform(sentence_embeddings)\n",
    "dimr.shape\n",
    "\n",
    "dimr = pd.DataFrame(dimr, columns = ['umap1', 'umap2'])"
   ]
  },
  {
   "cell_type": "code",
   "execution_count": 20,
   "id": "a5074770-adc7-4bcb-b60e-0206513e4351",
   "metadata": {},
   "outputs": [
    {
     "data": {
      "text/plain": [
       "array([0, 1, 2, 3, 4, 5, 6, 7, 8, 9], dtype=int32)"
      ]
     },
     "metadata": {},
     "output_type": "display_data"
    }
   ],
   "source": [
    "import numpy as np\n",
    "\n",
    "if clust_method == \"hdbscan\":\n",
    "    import hdbscan\n",
    "    labels = hdbscan.HDBSCAN(\n",
    "        min_samples=5,\n",
    "        min_cluster_size=20,\n",
    "    ).fit_predict(dimr[['umap1', 'umap2']])\n",
    "else:\n",
    "    import sklearn.cluster as cluster\n",
    "    labels = cluster.KMeans(n_clusters=10).fit_predict(dimr[['umap1', 'umap2']])\n",
    "    \n",
    "dimr['cluster'] = labels\n",
    "display(np.unique(labels)) "
   ]
  },
  {
   "cell_type": "code",
   "execution_count": 21,
   "id": "ecb26e8b-9e78-4b1a-80ff-dab63406e301",
   "metadata": {},
   "outputs": [
    {
     "data": {
      "text/html": [
       "<div>\n",
       "<style scoped>\n",
       "    .dataframe tbody tr th:only-of-type {\n",
       "        vertical-align: middle;\n",
       "    }\n",
       "\n",
       "    .dataframe tbody tr th {\n",
       "        vertical-align: top;\n",
       "    }\n",
       "\n",
       "    .dataframe thead th {\n",
       "        text-align: right;\n",
       "    }\n",
       "</style>\n",
       "<table border=\"1\" class=\"dataframe\">\n",
       "  <thead>\n",
       "    <tr style=\"text-align: right;\">\n",
       "      <th></th>\n",
       "      <th>index</th>\n",
       "      <th>umap1</th>\n",
       "      <th>umap2</th>\n",
       "      <th>cluster</th>\n",
       "      <th>index</th>\n",
       "      <th>title</th>\n",
       "      <th>href</th>\n",
       "      <th>body</th>\n",
       "    </tr>\n",
       "  </thead>\n",
       "  <tbody>\n",
       "    <tr>\n",
       "      <th>0</th>\n",
       "      <td>0</td>\n",
       "      <td>6.126308</td>\n",
       "      <td>15.378495</td>\n",
       "      <td>6</td>\n",
       "      <td>0</td>\n",
       "      <td>ChatGPT: Optimizing Language Models for Dialogue</td>\n",
       "      <td>https://openai.com/blog/chatgpt/</td>\n",
       "      <td>We've trained a model called ChatGPT which int...</td>\n",
       "    </tr>\n",
       "    <tr>\n",
       "      <th>1</th>\n",
       "      <td>1</td>\n",
       "      <td>6.274906</td>\n",
       "      <td>15.835807</td>\n",
       "      <td>5</td>\n",
       "      <td>1</td>\n",
       "      <td>ChatGPT has the answers. How does ChatGPT get ...</td>\n",
       "      <td>https://www.usatoday.com/story/tech/2023/01/27...</td>\n",
       "      <td>ChatGPT (Generative Pre-trained Transformer) i...</td>\n",
       "    </tr>\n",
       "    <tr>\n",
       "      <th>2</th>\n",
       "      <td>2</td>\n",
       "      <td>5.871943</td>\n",
       "      <td>12.925730</td>\n",
       "      <td>4</td>\n",
       "      <td>2</td>\n",
       "      <td>ChatGPT passes exams from law and business sch...</td>\n",
       "      <td>https://www.cnn.com/2023/01/26/tech/chatgpt-pa...</td>\n",
       "      <td>ChatGPT is smart enough to pass prestigious gr...</td>\n",
       "    </tr>\n",
       "    <tr>\n",
       "      <th>3</th>\n",
       "      <td>3</td>\n",
       "      <td>5.820159</td>\n",
       "      <td>14.696119</td>\n",
       "      <td>6</td>\n",
       "      <td>3</td>\n",
       "      <td>AI ChatGPT is helping CEOs think. Will it also...</td>\n",
       "      <td>https://www.cbsnews.com/news/chatgpt-chatbot-a...</td>\n",
       "      <td>ChatGPT is a language model that can be used f...</td>\n",
       "    </tr>\n",
       "    <tr>\n",
       "      <th>4</th>\n",
       "      <td>4</td>\n",
       "      <td>8.835108</td>\n",
       "      <td>15.581505</td>\n",
       "      <td>8</td>\n",
       "      <td>4</td>\n",
       "      <td>What is ChatGPT? The AI text generator explained</td>\n",
       "      <td>https://www.trustedreviews.com/explainer/what-...</td>\n",
       "      <td>ChatGPT is a chatbot created by the artificial...</td>\n",
       "    </tr>\n",
       "    <tr>\n",
       "      <th>...</th>\n",
       "      <td>...</td>\n",
       "      <td>...</td>\n",
       "      <td>...</td>\n",
       "      <td>...</td>\n",
       "      <td>...</td>\n",
       "      <td>...</td>\n",
       "      <td>...</td>\n",
       "      <td>...</td>\n",
       "    </tr>\n",
       "    <tr>\n",
       "      <th>165</th>\n",
       "      <td>165</td>\n",
       "      <td>6.732293</td>\n",
       "      <td>15.461653</td>\n",
       "      <td>5</td>\n",
       "      <td>165</td>\n",
       "      <td>ChatGPT | Know Your Meme</td>\n",
       "      <td>https://knowyourmeme.com/memes/sites/chatgpt</td>\n",
       "      <td>ChatGPT, short for Chat Generative Pre-trained...</td>\n",
       "    </tr>\n",
       "    <tr>\n",
       "      <th>166</th>\n",
       "      <td>166</td>\n",
       "      <td>8.460801</td>\n",
       "      <td>12.549894</td>\n",
       "      <td>0</td>\n",
       "      <td>166</td>\n",
       "      <td>How ChatGPT can turn anyone into a ransomware ...</td>\n",
       "      <td>https://venturebeat.com/security/chatgpt-ranso...</td>\n",
       "      <td>While ChatGPT hasn't been out long, security r...</td>\n",
       "    </tr>\n",
       "    <tr>\n",
       "      <th>167</th>\n",
       "      <td>167</td>\n",
       "      <td>8.093411</td>\n",
       "      <td>13.974854</td>\n",
       "      <td>2</td>\n",
       "      <td>167</td>\n",
       "      <td>Elevate Your Property Marketing with ChatGPT: ...</td>\n",
       "      <td>https://www.rismedia.com/2023/01/24/elevate-yo...</td>\n",
       "      <td>Three Prompt Basics for ChatGPT That Every Age...</td>\n",
       "    </tr>\n",
       "    <tr>\n",
       "      <th>168</th>\n",
       "      <td>168</td>\n",
       "      <td>9.622962</td>\n",
       "      <td>14.183983</td>\n",
       "      <td>7</td>\n",
       "      <td>168</td>\n",
       "      <td>Old Video: ChatGPT Founder On How He Plans To ...</td>\n",
       "      <td>https://www.ndtv.com/feature/old-video-chatgpt...</td>\n",
       "      <td>An old video of ChatGPT CEO Sam Altman has sur...</td>\n",
       "    </tr>\n",
       "    <tr>\n",
       "      <th>169</th>\n",
       "      <td>169</td>\n",
       "      <td>7.902899</td>\n",
       "      <td>14.822184</td>\n",
       "      <td>2</td>\n",
       "      <td>169</td>\n",
       "      <td>Communications is too important for ChatGPT to...</td>\n",
       "      <td>https://venturebeat.com/ai/communications-is-t...</td>\n",
       "      <td>Indeed, ChatGPT is much like a robot designed ...</td>\n",
       "    </tr>\n",
       "  </tbody>\n",
       "</table>\n",
       "<p>170 rows × 8 columns</p>\n",
       "</div>"
      ],
      "text/plain": [
       "     index     umap1      umap2  cluster  index  \\\n",
       "0        0  6.126308  15.378495        6      0   \n",
       "1        1  6.274906  15.835807        5      1   \n",
       "2        2  5.871943  12.925730        4      2   \n",
       "3        3  5.820159  14.696119        6      3   \n",
       "4        4  8.835108  15.581505        8      4   \n",
       "..     ...       ...        ...      ...    ...   \n",
       "165    165  6.732293  15.461653        5    165   \n",
       "166    166  8.460801  12.549894        0    166   \n",
       "167    167  8.093411  13.974854        2    167   \n",
       "168    168  9.622962  14.183983        7    168   \n",
       "169    169  7.902899  14.822184        2    169   \n",
       "\n",
       "                                                 title  \\\n",
       "0     ChatGPT: Optimizing Language Models for Dialogue   \n",
       "1    ChatGPT has the answers. How does ChatGPT get ...   \n",
       "2    ChatGPT passes exams from law and business sch...   \n",
       "3    AI ChatGPT is helping CEOs think. Will it also...   \n",
       "4     What is ChatGPT? The AI text generator explained   \n",
       "..                                                 ...   \n",
       "165                           ChatGPT | Know Your Meme   \n",
       "166  How ChatGPT can turn anyone into a ransomware ...   \n",
       "167  Elevate Your Property Marketing with ChatGPT: ...   \n",
       "168  Old Video: ChatGPT Founder On How He Plans To ...   \n",
       "169  Communications is too important for ChatGPT to...   \n",
       "\n",
       "                                                  href  \\\n",
       "0                     https://openai.com/blog/chatgpt/   \n",
       "1    https://www.usatoday.com/story/tech/2023/01/27...   \n",
       "2    https://www.cnn.com/2023/01/26/tech/chatgpt-pa...   \n",
       "3    https://www.cbsnews.com/news/chatgpt-chatbot-a...   \n",
       "4    https://www.trustedreviews.com/explainer/what-...   \n",
       "..                                                 ...   \n",
       "165       https://knowyourmeme.com/memes/sites/chatgpt   \n",
       "166  https://venturebeat.com/security/chatgpt-ranso...   \n",
       "167  https://www.rismedia.com/2023/01/24/elevate-yo...   \n",
       "168  https://www.ndtv.com/feature/old-video-chatgpt...   \n",
       "169  https://venturebeat.com/ai/communications-is-t...   \n",
       "\n",
       "                                                  body  \n",
       "0    We've trained a model called ChatGPT which int...  \n",
       "1    ChatGPT (Generative Pre-trained Transformer) i...  \n",
       "2    ChatGPT is smart enough to pass prestigious gr...  \n",
       "3    ChatGPT is a language model that can be used f...  \n",
       "4    ChatGPT is a chatbot created by the artificial...  \n",
       "..                                                 ...  \n",
       "165  ChatGPT, short for Chat Generative Pre-trained...  \n",
       "166  While ChatGPT hasn't been out long, security r...  \n",
       "167  Three Prompt Basics for ChatGPT That Every Age...  \n",
       "168  An old video of ChatGPT CEO Sam Altman has sur...  \n",
       "169  Indeed, ChatGPT is much like a robot designed ...  \n",
       "\n",
       "[170 rows x 8 columns]"
      ]
     },
     "execution_count": 21,
     "metadata": {},
     "output_type": "execute_result"
    }
   ],
   "source": [
    "dat = pd.concat([dimr.reset_index(), md.reset_index()], axis = 1)\n",
    "dat"
   ]
  },
  {
   "cell_type": "code",
   "execution_count": 22,
   "id": "557225dc-bf61-462f-8058-59741adc0312",
   "metadata": {},
   "outputs": [
    {
     "name": "stderr",
     "output_type": "stream",
     "text": [
      "[nltk_data] Downloading package punkt to\n",
      "[nltk_data]     /Users/tylerburns/nltk_data...\n",
      "[nltk_data]   Package punkt is already up-to-date!\n",
      "[nltk_data] Downloading package omw-1.4 to\n",
      "[nltk_data]     /Users/tylerburns/nltk_data...\n",
      "[nltk_data]   Package omw-1.4 is already up-to-date!\n",
      "[nltk_data] Downloading package wordnet to\n",
      "[nltk_data]     /Users/tylerburns/nltk_data...\n",
      "[nltk_data]   Package wordnet is already up-to-date!\n"
     ]
    },
    {
     "data": {
      "text/html": [
       "<div>\n",
       "<style scoped>\n",
       "    .dataframe tbody tr th:only-of-type {\n",
       "        vertical-align: middle;\n",
       "    }\n",
       "\n",
       "    .dataframe tbody tr th {\n",
       "        vertical-align: top;\n",
       "    }\n",
       "\n",
       "    .dataframe thead th {\n",
       "        text-align: right;\n",
       "    }\n",
       "</style>\n",
       "<table border=\"1\" class=\"dataframe\">\n",
       "  <thead>\n",
       "    <tr style=\"text-align: right;\">\n",
       "      <th></th>\n",
       "      <th>keyword1</th>\n",
       "      <th>keyword2</th>\n",
       "      <th>keyword3</th>\n",
       "      <th>keyword4</th>\n",
       "      <th>keyword5</th>\n",
       "      <th>cluster</th>\n",
       "    </tr>\n",
       "  </thead>\n",
       "  <tbody>\n",
       "    <tr>\n",
       "      <th>0</th>\n",
       "      <td>(chatgpt, 0.5194)</td>\n",
       "      <td>(chatbot, 0.4259)</td>\n",
       "      <td>(microsoft, 0.3402)</td>\n",
       "      <td>(chatting, 0.3221)</td>\n",
       "      <td>(blogs, 0.3176)</td>\n",
       "      <td>0</td>\n",
       "    </tr>\n",
       "    <tr>\n",
       "      <th>1</th>\n",
       "      <td>(chatgpt, 0.5966)</td>\n",
       "      <td>(openai, 0.4725)</td>\n",
       "      <td>(chatbot, 0.3983)</td>\n",
       "      <td>(chat, 0.375)</td>\n",
       "      <td>(gpt, 0.369)</td>\n",
       "      <td>1</td>\n",
       "    </tr>\n",
       "    <tr>\n",
       "      <th>2</th>\n",
       "      <td>(chatgpt, 0.6387)</td>\n",
       "      <td>(chatbot, 0.4784)</td>\n",
       "      <td>(chat, 0.4373)</td>\n",
       "      <td>(conversations, 0.353)</td>\n",
       "      <td>(technology, 0.3337)</td>\n",
       "      <td>2</td>\n",
       "    </tr>\n",
       "    <tr>\n",
       "      <th>3</th>\n",
       "      <td>(chatgpt, 0.6901)</td>\n",
       "      <td>(chatbots, 0.563)</td>\n",
       "      <td>(chatbot, 0.5296)</td>\n",
       "      <td>(chat, 0.4988)</td>\n",
       "      <td>(chatteo, 0.3485)</td>\n",
       "      <td>3</td>\n",
       "    </tr>\n",
       "    <tr>\n",
       "      <th>4</th>\n",
       "      <td>(chatgpt, 0.4452)</td>\n",
       "      <td>(exams, 0.4082)</td>\n",
       "      <td>(exam, 0.395)</td>\n",
       "      <td>(study, 0.3399)</td>\n",
       "      <td>(law, 0.2934)</td>\n",
       "      <td>4</td>\n",
       "    </tr>\n",
       "    <tr>\n",
       "      <th>5</th>\n",
       "      <td>(chatgpt, 0.5262)</td>\n",
       "      <td>(chatbot, 0.4435)</td>\n",
       "      <td>(microsoft, 0.3729)</td>\n",
       "      <td>(openai, 0.3712)</td>\n",
       "      <td>(ai, 0.3663)</td>\n",
       "      <td>5</td>\n",
       "    </tr>\n",
       "    <tr>\n",
       "      <th>6</th>\n",
       "      <td>(chatgpt, 0.6156)</td>\n",
       "      <td>(openai, 0.3609)</td>\n",
       "      <td>(gpt3, 0.318)</td>\n",
       "      <td>(dialogue, 0.3147)</td>\n",
       "      <td>(microsoft, 0.3088)</td>\n",
       "      <td>6</td>\n",
       "    </tr>\n",
       "    <tr>\n",
       "      <th>7</th>\n",
       "      <td>(chatgpt, 0.6082)</td>\n",
       "      <td>(seo, 0.3712)</td>\n",
       "      <td>(seos, 0.356)</td>\n",
       "      <td>(google, 0.2892)</td>\n",
       "      <td>(web, 0.2509)</td>\n",
       "      <td>7</td>\n",
       "    </tr>\n",
       "    <tr>\n",
       "      <th>8</th>\n",
       "      <td>(chatgpt, 0.6383)</td>\n",
       "      <td>(imessage, 0.4338)</td>\n",
       "      <td>(ai, 0.3901)</td>\n",
       "      <td>(text, 0.3585)</td>\n",
       "      <td>(talking, 0.3206)</td>\n",
       "      <td>8</td>\n",
       "    </tr>\n",
       "    <tr>\n",
       "      <th>9</th>\n",
       "      <td>(chatgpt, 0.4891)</td>\n",
       "      <td>(educators, 0.417)</td>\n",
       "      <td>(teaching, 0.406)</td>\n",
       "      <td>(teachers, 0.3767)</td>\n",
       "      <td>(teacher, 0.3755)</td>\n",
       "      <td>9</td>\n",
       "    </tr>\n",
       "  </tbody>\n",
       "</table>\n",
       "</div>"
      ],
      "text/plain": [
       "            keyword1            keyword2             keyword3  \\\n",
       "0  (chatgpt, 0.5194)   (chatbot, 0.4259)  (microsoft, 0.3402)   \n",
       "1  (chatgpt, 0.5966)    (openai, 0.4725)    (chatbot, 0.3983)   \n",
       "2  (chatgpt, 0.6387)   (chatbot, 0.4784)       (chat, 0.4373)   \n",
       "3  (chatgpt, 0.6901)   (chatbots, 0.563)    (chatbot, 0.5296)   \n",
       "4  (chatgpt, 0.4452)     (exams, 0.4082)        (exam, 0.395)   \n",
       "5  (chatgpt, 0.5262)   (chatbot, 0.4435)  (microsoft, 0.3729)   \n",
       "6  (chatgpt, 0.6156)    (openai, 0.3609)        (gpt3, 0.318)   \n",
       "7  (chatgpt, 0.6082)       (seo, 0.3712)        (seos, 0.356)   \n",
       "8  (chatgpt, 0.6383)  (imessage, 0.4338)         (ai, 0.3901)   \n",
       "9  (chatgpt, 0.4891)  (educators, 0.417)    (teaching, 0.406)   \n",
       "\n",
       "                 keyword4              keyword5  cluster  \n",
       "0      (chatting, 0.3221)       (blogs, 0.3176)        0  \n",
       "1           (chat, 0.375)          (gpt, 0.369)        1  \n",
       "2  (conversations, 0.353)  (technology, 0.3337)        2  \n",
       "3          (chat, 0.4988)     (chatteo, 0.3485)        3  \n",
       "4         (study, 0.3399)         (law, 0.2934)        4  \n",
       "5        (openai, 0.3712)          (ai, 0.3663)        5  \n",
       "6      (dialogue, 0.3147)   (microsoft, 0.3088)        6  \n",
       "7        (google, 0.2892)         (web, 0.2509)        7  \n",
       "8          (text, 0.3585)     (talking, 0.3206)        8  \n",
       "9      (teachers, 0.3767)     (teacher, 0.3755)        9  "
      ]
     },
     "execution_count": 22,
     "metadata": {},
     "output_type": "execute_result"
    }
   ],
   "source": [
    "# Testing\n",
    "from keybert import KeyBERT\n",
    "import nltk\n",
    "nltk.download('punkt')\n",
    "nltk.download('omw-1.4')\n",
    "nltk.download('wordnet')\n",
    "\n",
    "# Create WordNetLemmatizer object\n",
    "from nltk.stem import WordNetLemmatizer\n",
    "wnl = WordNetLemmatizer()\n",
    "kw_model = KeyBERT()\n",
    "\n",
    "keywords_df = []\n",
    "for i in np.unique(dat['cluster']):\n",
    "    curr = dat[dat['cluster'] == i]\n",
    "    text =  ' '.join(curr['title'])\n",
    "    \n",
    "    # Lemmatization\n",
    "    text = nltk.word_tokenize(text)\n",
    "    text = [wnl.lemmatize(i) for i in text]\n",
    "    text = ' '.join(text)\n",
    "    \n",
    "    # Keyword extraction\n",
    "    TR_keywords = kw_model.extract_keywords(text)\n",
    "    keywords_df.append(TR_keywords[0:10])\n",
    "    \n",
    "keywords_df = pd.DataFrame(keywords_df)\n",
    "keywords_df['cluster'] = np.unique(dimr['cluster'])\n",
    "keywords_df.columns = ['keyword1', 'keyword2', 'keyword3', 'keyword4', 'keyword5', 'cluster']\n",
    "keywords_df"
   ]
  },
  {
   "cell_type": "code",
   "execution_count": 23,
   "id": "fdcff724-9d4d-4127-85ab-cb47f01f03f1",
   "metadata": {},
   "outputs": [
    {
     "data": {
      "text/html": [
       "<div>\n",
       "<style scoped>\n",
       "    .dataframe tbody tr th:only-of-type {\n",
       "        vertical-align: middle;\n",
       "    }\n",
       "\n",
       "    .dataframe tbody tr th {\n",
       "        vertical-align: top;\n",
       "    }\n",
       "\n",
       "    .dataframe thead th {\n",
       "        text-align: right;\n",
       "    }\n",
       "</style>\n",
       "<table border=\"1\" class=\"dataframe\">\n",
       "  <thead>\n",
       "    <tr style=\"text-align: right;\">\n",
       "      <th></th>\n",
       "      <th>index</th>\n",
       "      <th>umap1</th>\n",
       "      <th>umap2</th>\n",
       "      <th>cluster</th>\n",
       "      <th>index</th>\n",
       "      <th>title</th>\n",
       "      <th>href</th>\n",
       "      <th>body</th>\n",
       "      <th>keyword1</th>\n",
       "      <th>keyword2</th>\n",
       "      <th>keyword3</th>\n",
       "      <th>keyword4</th>\n",
       "      <th>keyword5</th>\n",
       "    </tr>\n",
       "  </thead>\n",
       "  <tbody>\n",
       "    <tr>\n",
       "      <th>0</th>\n",
       "      <td>0</td>\n",
       "      <td>6.126308</td>\n",
       "      <td>15.378495</td>\n",
       "      <td>6</td>\n",
       "      <td>0</td>\n",
       "      <td>ChatGPT: Optimizing Language Models for Dialogue</td>\n",
       "      <td>https://openai.com/blog/chatgpt/</td>\n",
       "      <td>We've trained a model called ChatGPT which int...</td>\n",
       "      <td>(chatgpt, 0.6156)</td>\n",
       "      <td>(openai, 0.3609)</td>\n",
       "      <td>(gpt3, 0.318)</td>\n",
       "      <td>(dialogue, 0.3147)</td>\n",
       "      <td>(microsoft, 0.3088)</td>\n",
       "    </tr>\n",
       "    <tr>\n",
       "      <th>1</th>\n",
       "      <td>3</td>\n",
       "      <td>5.820159</td>\n",
       "      <td>14.696119</td>\n",
       "      <td>6</td>\n",
       "      <td>3</td>\n",
       "      <td>AI ChatGPT is helping CEOs think. Will it also...</td>\n",
       "      <td>https://www.cbsnews.com/news/chatgpt-chatbot-a...</td>\n",
       "      <td>ChatGPT is a language model that can be used f...</td>\n",
       "      <td>(chatgpt, 0.6156)</td>\n",
       "      <td>(openai, 0.3609)</td>\n",
       "      <td>(gpt3, 0.318)</td>\n",
       "      <td>(dialogue, 0.3147)</td>\n",
       "      <td>(microsoft, 0.3088)</td>\n",
       "    </tr>\n",
       "    <tr>\n",
       "      <th>2</th>\n",
       "      <td>5</td>\n",
       "      <td>5.947445</td>\n",
       "      <td>15.025608</td>\n",
       "      <td>6</td>\n",
       "      <td>5</td>\n",
       "      <td>How to use ChatGPT | ZDNET</td>\n",
       "      <td>https://www.zdnet.com/article/how-to-use-chatgpt/</td>\n",
       "      <td>ChatGPT is a large language model that uses ar...</td>\n",
       "      <td>(chatgpt, 0.6156)</td>\n",
       "      <td>(openai, 0.3609)</td>\n",
       "      <td>(gpt3, 0.318)</td>\n",
       "      <td>(dialogue, 0.3147)</td>\n",
       "      <td>(microsoft, 0.3088)</td>\n",
       "    </tr>\n",
       "    <tr>\n",
       "      <th>3</th>\n",
       "      <td>6</td>\n",
       "      <td>6.604967</td>\n",
       "      <td>14.831259</td>\n",
       "      <td>6</td>\n",
       "      <td>6</td>\n",
       "      <td>What is ChatGPT and why does it matter? Here's...</td>\n",
       "      <td>https://www.zdnet.com/article/what-is-chatgpt-...</td>\n",
       "      <td>ChatGPT is a natural language processing tool ...</td>\n",
       "      <td>(chatgpt, 0.6156)</td>\n",
       "      <td>(openai, 0.3609)</td>\n",
       "      <td>(gpt3, 0.318)</td>\n",
       "      <td>(dialogue, 0.3147)</td>\n",
       "      <td>(microsoft, 0.3088)</td>\n",
       "    </tr>\n",
       "    <tr>\n",
       "      <th>4</th>\n",
       "      <td>8</td>\n",
       "      <td>6.018540</td>\n",
       "      <td>15.351077</td>\n",
       "      <td>6</td>\n",
       "      <td>8</td>\n",
       "      <td>ChatGPT: What Is It &amp; How Can You Use It?</td>\n",
       "      <td>https://www.searchenginejournal.com/what-is-ch...</td>\n",
       "      <td>ChatGPT is a large language model chatbot deve...</td>\n",
       "      <td>(chatgpt, 0.6156)</td>\n",
       "      <td>(openai, 0.3609)</td>\n",
       "      <td>(gpt3, 0.318)</td>\n",
       "      <td>(dialogue, 0.3147)</td>\n",
       "      <td>(microsoft, 0.3088)</td>\n",
       "    </tr>\n",
       "    <tr>\n",
       "      <th>...</th>\n",
       "      <td>...</td>\n",
       "      <td>...</td>\n",
       "      <td>...</td>\n",
       "      <td>...</td>\n",
       "      <td>...</td>\n",
       "      <td>...</td>\n",
       "      <td>...</td>\n",
       "      <td>...</td>\n",
       "      <td>...</td>\n",
       "      <td>...</td>\n",
       "      <td>...</td>\n",
       "      <td>...</td>\n",
       "      <td>...</td>\n",
       "    </tr>\n",
       "    <tr>\n",
       "      <th>165</th>\n",
       "      <td>154</td>\n",
       "      <td>8.112314</td>\n",
       "      <td>12.914286</td>\n",
       "      <td>0</td>\n",
       "      <td>154</td>\n",
       "      <td>Jawaharlal Nehru Meets PM Modi on Republic Day...</td>\n",
       "      <td>https://www.thequint.com/news/india/jawaharlal...</td>\n",
       "      <td>Yet, the what-if scenarios that can be played ...</td>\n",
       "      <td>(chatgpt, 0.5194)</td>\n",
       "      <td>(chatbot, 0.4259)</td>\n",
       "      <td>(microsoft, 0.3402)</td>\n",
       "      <td>(chatting, 0.3221)</td>\n",
       "      <td>(blogs, 0.3176)</td>\n",
       "    </tr>\n",
       "    <tr>\n",
       "      <th>166</th>\n",
       "      <td>157</td>\n",
       "      <td>8.623848</td>\n",
       "      <td>13.219074</td>\n",
       "      <td>0</td>\n",
       "      <td>157</td>\n",
       "      <td>The 3 Best AI Stocks to Buy as ChatGPT Ushers ...</td>\n",
       "      <td>https://investorplace.com/2022/12/the-3-best-a...</td>\n",
       "      <td>ChatGPT has created a revolutionary new experi...</td>\n",
       "      <td>(chatgpt, 0.5194)</td>\n",
       "      <td>(chatbot, 0.4259)</td>\n",
       "      <td>(microsoft, 0.3402)</td>\n",
       "      <td>(chatting, 0.3221)</td>\n",
       "      <td>(blogs, 0.3176)</td>\n",
       "    </tr>\n",
       "    <tr>\n",
       "      <th>167</th>\n",
       "      <td>163</td>\n",
       "      <td>8.440441</td>\n",
       "      <td>13.329154</td>\n",
       "      <td>0</td>\n",
       "      <td>163</td>\n",
       "      <td>Google won't make a competitor to Microsoft Az...</td>\n",
       "      <td>https://www.windowscentral.com/software-apps/g...</td>\n",
       "      <td>With ChatGPT making the news, Google employees...</td>\n",
       "      <td>(chatgpt, 0.5194)</td>\n",
       "      <td>(chatbot, 0.4259)</td>\n",
       "      <td>(microsoft, 0.3402)</td>\n",
       "      <td>(chatting, 0.3221)</td>\n",
       "      <td>(blogs, 0.3176)</td>\n",
       "    </tr>\n",
       "    <tr>\n",
       "      <th>168</th>\n",
       "      <td>164</td>\n",
       "      <td>9.004629</td>\n",
       "      <td>12.803530</td>\n",
       "      <td>0</td>\n",
       "      <td>164</td>\n",
       "      <td>ChatGPT as a Python Programming Assistant - KD...</td>\n",
       "      <td>https://www.kdnuggets.com/2023/01/chatgpt-pyth...</td>\n",
       "      <td>ChatGPT did a perfectly competent job of creat...</td>\n",
       "      <td>(chatgpt, 0.5194)</td>\n",
       "      <td>(chatbot, 0.4259)</td>\n",
       "      <td>(microsoft, 0.3402)</td>\n",
       "      <td>(chatting, 0.3221)</td>\n",
       "      <td>(blogs, 0.3176)</td>\n",
       "    </tr>\n",
       "    <tr>\n",
       "      <th>169</th>\n",
       "      <td>166</td>\n",
       "      <td>8.460801</td>\n",
       "      <td>12.549894</td>\n",
       "      <td>0</td>\n",
       "      <td>166</td>\n",
       "      <td>How ChatGPT can turn anyone into a ransomware ...</td>\n",
       "      <td>https://venturebeat.com/security/chatgpt-ranso...</td>\n",
       "      <td>While ChatGPT hasn't been out long, security r...</td>\n",
       "      <td>(chatgpt, 0.5194)</td>\n",
       "      <td>(chatbot, 0.4259)</td>\n",
       "      <td>(microsoft, 0.3402)</td>\n",
       "      <td>(chatting, 0.3221)</td>\n",
       "      <td>(blogs, 0.3176)</td>\n",
       "    </tr>\n",
       "  </tbody>\n",
       "</table>\n",
       "<p>170 rows × 13 columns</p>\n",
       "</div>"
      ],
      "text/plain": [
       "     index     umap1      umap2  cluster  index  \\\n",
       "0        0  6.126308  15.378495        6      0   \n",
       "1        3  5.820159  14.696119        6      3   \n",
       "2        5  5.947445  15.025608        6      5   \n",
       "3        6  6.604967  14.831259        6      6   \n",
       "4        8  6.018540  15.351077        6      8   \n",
       "..     ...       ...        ...      ...    ...   \n",
       "165    154  8.112314  12.914286        0    154   \n",
       "166    157  8.623848  13.219074        0    157   \n",
       "167    163  8.440441  13.329154        0    163   \n",
       "168    164  9.004629  12.803530        0    164   \n",
       "169    166  8.460801  12.549894        0    166   \n",
       "\n",
       "                                                 title  \\\n",
       "0     ChatGPT: Optimizing Language Models for Dialogue   \n",
       "1    AI ChatGPT is helping CEOs think. Will it also...   \n",
       "2                           How to use ChatGPT | ZDNET   \n",
       "3    What is ChatGPT and why does it matter? Here's...   \n",
       "4            ChatGPT: What Is It & How Can You Use It?   \n",
       "..                                                 ...   \n",
       "165  Jawaharlal Nehru Meets PM Modi on Republic Day...   \n",
       "166  The 3 Best AI Stocks to Buy as ChatGPT Ushers ...   \n",
       "167  Google won't make a competitor to Microsoft Az...   \n",
       "168  ChatGPT as a Python Programming Assistant - KD...   \n",
       "169  How ChatGPT can turn anyone into a ransomware ...   \n",
       "\n",
       "                                                  href  \\\n",
       "0                     https://openai.com/blog/chatgpt/   \n",
       "1    https://www.cbsnews.com/news/chatgpt-chatbot-a...   \n",
       "2    https://www.zdnet.com/article/how-to-use-chatgpt/   \n",
       "3    https://www.zdnet.com/article/what-is-chatgpt-...   \n",
       "4    https://www.searchenginejournal.com/what-is-ch...   \n",
       "..                                                 ...   \n",
       "165  https://www.thequint.com/news/india/jawaharlal...   \n",
       "166  https://investorplace.com/2022/12/the-3-best-a...   \n",
       "167  https://www.windowscentral.com/software-apps/g...   \n",
       "168  https://www.kdnuggets.com/2023/01/chatgpt-pyth...   \n",
       "169  https://venturebeat.com/security/chatgpt-ranso...   \n",
       "\n",
       "                                                  body           keyword1  \\\n",
       "0    We've trained a model called ChatGPT which int...  (chatgpt, 0.6156)   \n",
       "1    ChatGPT is a language model that can be used f...  (chatgpt, 0.6156)   \n",
       "2    ChatGPT is a large language model that uses ar...  (chatgpt, 0.6156)   \n",
       "3    ChatGPT is a natural language processing tool ...  (chatgpt, 0.6156)   \n",
       "4    ChatGPT is a large language model chatbot deve...  (chatgpt, 0.6156)   \n",
       "..                                                 ...                ...   \n",
       "165  Yet, the what-if scenarios that can be played ...  (chatgpt, 0.5194)   \n",
       "166  ChatGPT has created a revolutionary new experi...  (chatgpt, 0.5194)   \n",
       "167  With ChatGPT making the news, Google employees...  (chatgpt, 0.5194)   \n",
       "168  ChatGPT did a perfectly competent job of creat...  (chatgpt, 0.5194)   \n",
       "169  While ChatGPT hasn't been out long, security r...  (chatgpt, 0.5194)   \n",
       "\n",
       "              keyword2             keyword3            keyword4  \\\n",
       "0     (openai, 0.3609)        (gpt3, 0.318)  (dialogue, 0.3147)   \n",
       "1     (openai, 0.3609)        (gpt3, 0.318)  (dialogue, 0.3147)   \n",
       "2     (openai, 0.3609)        (gpt3, 0.318)  (dialogue, 0.3147)   \n",
       "3     (openai, 0.3609)        (gpt3, 0.318)  (dialogue, 0.3147)   \n",
       "4     (openai, 0.3609)        (gpt3, 0.318)  (dialogue, 0.3147)   \n",
       "..                 ...                  ...                 ...   \n",
       "165  (chatbot, 0.4259)  (microsoft, 0.3402)  (chatting, 0.3221)   \n",
       "166  (chatbot, 0.4259)  (microsoft, 0.3402)  (chatting, 0.3221)   \n",
       "167  (chatbot, 0.4259)  (microsoft, 0.3402)  (chatting, 0.3221)   \n",
       "168  (chatbot, 0.4259)  (microsoft, 0.3402)  (chatting, 0.3221)   \n",
       "169  (chatbot, 0.4259)  (microsoft, 0.3402)  (chatting, 0.3221)   \n",
       "\n",
       "                keyword5  \n",
       "0    (microsoft, 0.3088)  \n",
       "1    (microsoft, 0.3088)  \n",
       "2    (microsoft, 0.3088)  \n",
       "3    (microsoft, 0.3088)  \n",
       "4    (microsoft, 0.3088)  \n",
       "..                   ...  \n",
       "165      (blogs, 0.3176)  \n",
       "166      (blogs, 0.3176)  \n",
       "167      (blogs, 0.3176)  \n",
       "168      (blogs, 0.3176)  \n",
       "169      (blogs, 0.3176)  \n",
       "\n",
       "[170 rows x 13 columns]"
      ]
     },
     "execution_count": 23,
     "metadata": {},
     "output_type": "execute_result"
    }
   ],
   "source": [
    "dat = dat.merge(keywords_df) # This messes up the index\n",
    "dat"
   ]
  },
  {
   "cell_type": "code",
   "execution_count": 24,
   "id": "f1cffb8a-2709-432d-a538-58b8ec461a24",
   "metadata": {},
   "outputs": [
    {
     "data": {
      "application/vnd.plotly.v1+json": {
       "config": {
        "plotlyServerURL": "https://plot.ly"
       },
       "data": [
        {
         "customdata": [
          [
           "ChatGPT: Optimizing Language Models for Dialogue",
           "https://openai.com/blog/chatgpt/",
           "We've trained a model called<br>ChatGPT which interacts in a<br>conversational way. The<br>dialogue format makes it<br>possible for ChatGPT to answer<br>followup questions, admit its<br>mistakes, challenge incorrect<br>premises, and reject<br>inappropriate requests.<br>ChatGPT is a sibling model to<br>InstructGPT, which is trained<br>to follow an instruction in",
           [
            "chatgpt",
            0.6156
           ],
           [
            "openai",
            0.3609
           ],
           [
            "gpt3",
            0.318
           ],
           [
            "dialogue",
            0.3147
           ],
           [
            "microsoft",
            0.3088
           ]
          ],
          [
           "AI ChatGPT is helping CEOs think. Will it also take your job?",
           "https://www.cbsnews.com/news/chatgpt-chatbot-artificial-intelligence-job-replacement/",
           "ChatGPT is a language model<br>that can be used for a wide<br>range of natural language<br>processing tasks such as text<br>generation, language<br>translation, summarization,<br>and more. It can be used in<br>...",
           [
            "chatgpt",
            0.6156
           ],
           [
            "openai",
            0.3609
           ],
           [
            "gpt3",
            0.318
           ],
           [
            "dialogue",
            0.3147
           ],
           [
            "microsoft",
            0.3088
           ]
          ],
          [
           "How to use ChatGPT | ZDNET",
           "https://www.zdnet.com/article/how-to-use-chatgpt/",
           "ChatGPT is a large language<br>model that uses artificial<br>intelligence to hold text<br>conversations with users that<br>can feel natural, as if you<br>were asking someone questions.<br>The human-like responses ...",
           [
            "chatgpt",
            0.6156
           ],
           [
            "openai",
            0.3609
           ],
           [
            "gpt3",
            0.318
           ],
           [
            "dialogue",
            0.3147
           ],
           [
            "microsoft",
            0.3088
           ]
          ],
          [
           "What is ChatGPT and why does it matter? Here's what you need to know",
           "https://www.zdnet.com/article/what-is-chatgpt-and-why-does-it-matter-heres-everything-you-need-to-know/",
           "ChatGPT is a natural language<br>processing tool driven by AI<br>technology that allows you to<br>have human-like conversations<br>and much more with a chatbot.<br>The language model can answer<br>questions, assist ...",
           [
            "chatgpt",
            0.6156
           ],
           [
            "openai",
            0.3609
           ],
           [
            "gpt3",
            0.318
           ],
           [
            "dialogue",
            0.3147
           ],
           [
            "microsoft",
            0.3088
           ]
          ],
          [
           "ChatGPT: What Is It & How Can You Use It?",
           "https://www.searchenginejournal.com/what-is-chatgpt/473664/",
           "ChatGPT is a large language<br>model chatbot developed by<br>OpenAI based on GPT-3.5. It<br>has a remarkable ability to<br>interact in conversational<br>dialogue form and provide<br>responses that can appear ...",
           [
            "chatgpt",
            0.6156
           ],
           [
            "openai",
            0.3609
           ],
           [
            "gpt3",
            0.318
           ],
           [
            "dialogue",
            0.3147
           ],
           [
            "microsoft",
            0.3088
           ]
          ],
          [
           "ChatGPT in Classrooms: What to Know | High Schools | U.S. News",
           "https://www.usnews.com/education/best-high-schools/articles/chatgpt-in-classrooms-what-to-know",
           "ChatGPT is a \"large language<br>model,\" which means it's able<br>to generate readable text on<br>demand in a wide range of<br>styles and for a variety of<br>purposes. It can perform those<br>tasks with noticeably ...",
           [
            "chatgpt",
            0.6156
           ],
           [
            "openai",
            0.3609
           ],
           [
            "gpt3",
            0.318
           ],
           [
            "dialogue",
            0.3147
           ],
           [
            "microsoft",
            0.3088
           ]
          ],
          [
           "ChatGPT Examples: 22 Interesting Questions Answered By ChatGPT",
           "https://finlightened.com/chatgpt-examples/",
           "ChatGPT is an AI language<br>model that can answer<br>questions across various<br>topics in a human-like text<br>response. It has been<br>developed by OpenAI and is<br>currently free to use. You<br>just need an account (free to<br>create) on the openAI website,<br>and you can start asking your<br>questions. My first experience<br>with ChatGPT was a few days<br>ago, and I have ...",
           [
            "chatgpt",
            0.6156
           ],
           [
            "openai",
            0.3609
           ],
           [
            "gpt3",
            0.318
           ],
           [
            "dialogue",
            0.3147
           ],
           [
            "microsoft",
            0.3088
           ]
          ],
          [
           "ChatGPT: students could use AI to cheat, but it's a chance to rethink ...",
           "https://theconversation.com/chatgpt-students-could-use-ai-to-cheat-but-its-a-chance-to-rethink-assessment-altogether-198019",
           "ChatGPT is a powerful language<br>model developed by OpenAI that<br>has the ability to generate<br>human-like text, making it<br>capable of engaging in natural<br>language conversations. This<br>technology has the ...",
           [
            "chatgpt",
            0.6156
           ],
           [
            "openai",
            0.3609
           ],
           [
            "gpt3",
            0.318
           ],
           [
            "dialogue",
            0.3147
           ],
           [
            "microsoft",
            0.3088
           ]
          ],
          [
           "ChatGPT: Students could use AI to cheat, but it's a chance to rethink ...",
           "https://phys.org/news/2023-01-chatgpt-students-ai-chance-rethink.html",
           "ChatGPT is a powerful language<br>model developed by OpenAI that<br>has the ability to generate<br>human-like text, making it<br>capable of engaging in natural<br>language conversations. This<br>technology has the ...",
           [
            "chatgpt",
            0.6156
           ],
           [
            "openai",
            0.3609
           ],
           [
            "gpt3",
            0.318
           ],
           [
            "dialogue",
            0.3147
           ],
           [
            "microsoft",
            0.3088
           ]
          ],
          [
           "OpenAI's ChatGPT Could Never Write This Article. Here's Why.",
           "https://www.thedailybeast.com/openais-chatgpt-could-never-write-this-article-heres-why",
           "When Edward Tian developed<br>GPTZero, an app that's capable<br>of telling the difference<br>between ChatGPT and human<br>written text, one of his<br>parameters was simply how<br>complex and interesting a ...",
           [
            "chatgpt",
            0.6156
           ],
           [
            "openai",
            0.3609
           ],
           [
            "gpt3",
            0.318
           ],
           [
            "dialogue",
            0.3147
           ],
           [
            "microsoft",
            0.3088
           ]
          ],
          [
           "How to use ChatGPT - Beginners Guide",
           "https://www.thewindowsclub.com/how-to-use-chatgpt",
           "ChatGPT is a large language<br>model developed and released<br>by OpenAI. It has the ability<br>to understand and respond to<br>our queries and questions. It<br>can help you in doing many<br>things and can explain ...",
           [
            "chatgpt",
            0.6156
           ],
           [
            "openai",
            0.3609
           ],
           [
            "gpt3",
            0.318
           ],
           [
            "dialogue",
            0.3147
           ],
           [
            "microsoft",
            0.3088
           ]
          ],
          [
           "Is ChatGPT Going to Take Over Google? - msn.com",
           "https://www.msn.com/en-us/news/technology/is-chatgpt-going-to-take-over-google/ar-AA15QCdG",
           "ChatGPT is a variant of the<br>GPT-3 language model that has<br>been optimized for<br>conversational text. ChatGPT<br>is designed to generate human-<br>like responses to the text<br>input in a way that is similar<br>to ...",
           [
            "chatgpt",
            0.6156
           ],
           [
            "openai",
            0.3609
           ],
           [
            "gpt3",
            0.318
           ],
           [
            "dialogue",
            0.3147
           ],
           [
            "microsoft",
            0.3088
           ]
          ],
          [
           "Here's how Microsoft could use ChatGPT | MIT Technology Review",
           "https://www.technologyreview.com/2023/01/17/1067014/heres-how-microsoft-could-use-chatgpt/",
           "ChatGPT's potential to help<br>people write more fluently and<br>more quickly could be<br>Microsoft's killer<br>application. Language models<br>could be integrated into Word<br>to make it easier for people<br>to ...",
           [
            "chatgpt",
            0.6156
           ],
           [
            "openai",
            0.3609
           ],
           [
            "gpt3",
            0.318
           ],
           [
            "dialogue",
            0.3147
           ],
           [
            "microsoft",
            0.3088
           ]
          ],
          [
           "Download ChatGPT free for PC, Mac - CCM",
           "https://ccm.net/downloads/internet/10415-chatgpt/",
           "ChatGPT is an under-<br>development artificial<br>intelligence chatbot<br>specializing in dialogue.<br>Based on GPT-3.5 (an improved<br>version of GPT-3), it has<br>quickly become viral for its<br>detailed and articulate<br>answers. ChatGPT means Chat<br>Generative Pre-Trained<br>Transformer as it has been<br>both finely trained using<br>supervised learning (the model<br>is provided ...",
           [
            "chatgpt",
            0.6156
           ],
           [
            "openai",
            0.3609
           ],
           [
            "gpt3",
            0.318
           ],
           [
            "dialogue",
            0.3147
           ],
           [
            "microsoft",
            0.3088
           ]
          ],
          [
           "Harnessing the Power of ChatGPT and SAP HANA Cloud for Next-level Data ...",
           "https://blogs.sap.com/2023/01/10/harnessing-the-power-of-chatgpt-and-sap-hana-cloud-for-next-level-data-analytics/",
           "ChatGPT is a powerful natural<br>language processing model that<br>is fine-tuned from the GPT-3.5<br>series. It was trained on an<br>Azure AI supercomputing<br>infrastructure to provide<br>users with high-quality text<br>generation and understanding<br>capabilities.",
           [
            "chatgpt",
            0.6156
           ],
           [
            "openai",
            0.3609
           ],
           [
            "gpt3",
            0.318
           ],
           [
            "dialogue",
            0.3147
           ],
           [
            "microsoft",
            0.3088
           ]
          ],
          [
           "ChatGPT vs. GPT3: The Ultimate Comparison - DZone",
           "https://dzone.com/articles/chatgpt-vs-gpt3-the-ultimate-comparison-features",
           "ChatGPT is a state-of-the-art<br>conversational language model<br>that has been trained on a<br>large amount of text data from<br>various sources, including<br>social media, books, and news<br>articles. This model...",
           [
            "chatgpt",
            0.6156
           ],
           [
            "openai",
            0.3609
           ],
           [
            "gpt3",
            0.318
           ],
           [
            "dialogue",
            0.3147
           ],
           [
            "microsoft",
            0.3088
           ]
          ],
          [
           "Top 10 Ways ChatGPT Would Aid Students In 2023",
           "https://www.analyticsinsight.net/top-10-ways-chatgpt-would-aid-students-in-2023/",
           "ChatGPT employs a deep<br>learning model that is trained<br>on a tonne of data, as opposed<br>to other virtual assistants<br>that rely on pre-programmed<br>responses, to produce<br>responses in real time, making<br>the discussion feel more<br>natural and human-like. The<br>versatility of ChatGPT is a<br>distinctive feature.",
           [
            "chatgpt",
            0.6156
           ],
           [
            "openai",
            0.3609
           ],
           [
            "gpt3",
            0.318
           ],
           [
            "dialogue",
            0.3147
           ],
           [
            "microsoft",
            0.3088
           ]
          ]
         ],
         "hovertemplate": "color=6<br>umap1=%{x}<br>umap2=%{y}<br>title=%{customdata[0]}<br>href=%{customdata[1]}<br>body=%{customdata[2]}<br>keyword1=%{customdata[3]}<br>keyword2=%{customdata[4]}<br>keyword3=%{customdata[5]}<br>keyword4=%{customdata[6]}<br>keyword5=%{customdata[7]}<extra></extra>",
         "legendgroup": "6",
         "marker": {
          "color": "#636efa",
          "symbol": "circle"
         },
         "mode": "markers",
         "name": "6",
         "orientation": "v",
         "showlegend": true,
         "type": "scatter",
         "x": [
          6.126307964324951,
          5.820158958435059,
          5.947445392608643,
          6.60496711730957,
          6.018539905548096,
          5.765750885009766,
          6.238455295562744,
          5.618417263031006,
          5.776820182800293,
          5.771543025970459,
          6.284573078155518,
          6.109137058258057,
          6.025547504425049,
          6.501558780670166,
          6.46304988861084,
          5.802762031555176,
          6.59033727645874
         ],
         "xaxis": "x",
         "y": [
          15.378495216369629,
          14.69611930847168,
          15.02560806274414,
          14.831258773803711,
          15.35107707977295,
          14.751648902893066,
          14.835868835449219,
          15.273585319519043,
          15.133159637451172,
          14.645180702209473,
          15.094682693481445,
          14.840566635131836,
          14.481691360473633,
          15.405717849731445,
          14.664402961730957,
          14.992691040039062,
          15.20752239227295
         ],
         "yaxis": "y"
        },
        {
         "customdata": [
          [
           "ChatGPT has the answers. How does ChatGPT get its information?",
           "https://www.usatoday.com/story/tech/2023/01/27/chatgpt-buzzfeed-ai/11129947002/",
           "ChatGPT (Generative Pre-<br>trained Transformer) is the<br>latest viral sensation out of<br>San Francisco based startup<br>OpenAI . It's a free online<br>tool trained on millions of<br>pages of writing from all ...",
           [
            "chatgpt",
            0.5262
           ],
           [
            "chatbot",
            0.4435
           ],
           [
            "microsoft",
            0.3729
           ],
           [
            "openai",
            0.3712
           ],
           [
            "ai",
            0.3663
           ]
          ],
          [
           "Big Tech was moving cautiously on AI. Then came ChatGPT.",
           "https://www.washingtonpost.com/technology/2023/01/27/chatgpt-google-meta/",
           "ChatGPT, along with text-to-<br>image tools such as DALL-E 2<br>and Stable Diffusion, is part<br>of a new wave of software<br>called generative AI. They<br>create works of their own by<br>drawing on patterns they ...",
           [
            "chatgpt",
            0.5262
           ],
           [
            "chatbot",
            0.4435
           ],
           [
            "microsoft",
            0.3729
           ],
           [
            "openai",
            0.3712
           ],
           [
            "ai",
            0.3663
           ]
          ],
          [
           "Why Everyone's Obsessed With ChatGPT, a Mind-Blowing AI Chatbot",
           "https://www.cnet.com/tech/computing/why-everyones-obsessed-with-chatgpt-a-mind-blowing-ai-chatbot/",
           "ChatGPT is an AI chatbot<br>system that OpenAI released in<br>November to show off and test<br>what a very large, powerful AI<br>system can accomplish. You can<br>ask it countless questions and<br>often will get an ...",
           [
            "chatgpt",
            0.5262
           ],
           [
            "chatbot",
            0.4435
           ],
           [
            "microsoft",
            0.3729
           ],
           [
            "openai",
            0.3712
           ],
           [
            "ai",
            0.3663
           ]
          ],
          [
           "ChatGPT is a new AI chatbot that can answer questions and write essays",
           "https://www.cnbc.com/2022/12/13/chatgpt-is-a-new-ai-chatbot-that-can-answer-questions-and-write-essays.html",
           "ChatGPT has gone viral since<br>OpenAI released the text-based<br>artificial intelligence tool<br>last month. It's the latest<br>development in the world of<br>generative AI, which has<br>attracted billions of ...",
           [
            "chatgpt",
            0.5262
           ],
           [
            "chatbot",
            0.4435
           ],
           [
            "microsoft",
            0.3729
           ],
           [
            "openai",
            0.3712
           ],
           [
            "ai",
            0.3663
           ]
          ],
          [
           "How AI chatbot ChatGPT changes the phishing game | CSO Online",
           "https://www.csoonline.com/article/3685488/how-ai-chatbot-chatgpt-changes-the-phishing-game.html",
           "ChatGPT, OpenAI's free chatbot<br>based on GPT-3.5, was released<br>on 30 November 2022 and racked<br>up a million users in five<br>days.It is capable of writing<br>emails, essays, code and<br>phishing emails, if ...",
           [
            "chatgpt",
            0.5262
           ],
           [
            "chatbot",
            0.4435
           ],
           [
            "microsoft",
            0.3729
           ],
           [
            "openai",
            0.3712
           ],
           [
            "ai",
            0.3663
           ]
          ],
          [
           "App Store and Play Store are flooded with dubious ChatGPT apps",
           "https://techcrunch.com/2023/01/10/app-store-and-play-store-are-flooded-with-dubious-chatgpt-apps/",
           "ChatGPT is the hottest topic<br>of discussion in the tech<br>industry. OpenAI's chatbot<br>that answers questions in<br>natural language has attracted<br>interest from users and<br>developers. Some developers<br>are ...",
           [
            "chatgpt",
            0.5262
           ],
           [
            "chatbot",
            0.4435
           ],
           [
            "microsoft",
            0.3729
           ],
           [
            "openai",
            0.3712
           ],
           [
            "ai",
            0.3663
           ]
          ],
          [
           "WTF Is ChatGPT, the AI Phenomenon That Seems Almost Human?",
           "https://www.pcmag.com/how-to/what-is-chatgpt-ai-phenomenon-that-seems-almost-human",
           "By Chandra Steele. December 8,<br>2022. (Credit: Getty/Carol<br>Yepes) AI is dead. Long live<br>AI. If you've been on social<br>media recently, you've seen a<br>dip in weird images generated<br>by Dall-E and a rise ...",
           [
            "chatgpt",
            0.5262
           ],
           [
            "chatbot",
            0.4435
           ],
           [
            "microsoft",
            0.3729
           ],
           [
            "openai",
            0.3712
           ],
           [
            "ai",
            0.3663
           ]
          ],
          [
           "Top 10 Most Insane Things ChatGPT Has Done This Week",
           "https://www.springboard.com/blog/news/chatgpt-revolution/",
           "Top 10 Most Insane Things<br>ChatGPT Has Done This Week.<br>OpenAI already made a splash<br>this year with its image<br>generator DALL-E, and now the<br>progressive artificial<br>intelligence company has done<br>it again with the release of<br>its newest AI chatbot, ChatGPT<br>. For the past week, over a<br>million users have been<br>testing out the limits of<br>ChatGPT and ...",
           [
            "chatgpt",
            0.5262
           ],
           [
            "chatbot",
            0.4435
           ],
           [
            "microsoft",
            0.3729
           ],
           [
            "openai",
            0.3712
           ],
           [
            "ai",
            0.3663
           ]
          ],
          [
           "Is ChatGPT Ready for Its Day in Court? Experts Say No Way",
           "https://www.law.com/legaltechnews/2023/01/19/is-chatgpt-ready-for-its-day-in-court-experts-say-no-way/",
           "Almost immediately after the<br>December 2022 release of<br>ChatGPT, a tool from OpenAI<br>built on an AI model<br>colloquially known as GPT-3.5,<br>speculation about its<br>potential uses in the legal<br>industry ran ...",
           [
            "chatgpt",
            0.5262
           ],
           [
            "chatbot",
            0.4435
           ],
           [
            "microsoft",
            0.3729
           ],
           [
            "openai",
            0.3712
           ],
           [
            "ai",
            0.3663
           ]
          ],
          [
           "AI Developers Release Open-Source Implementations of ChatGPT Training ...",
           "https://www.infoq.com/news/2023/01/open-source-chatgpt/",
           "AI research groups LAION and<br>CarperAI have released<br>OpenAssistant and trlX, open-<br>source implementations of<br>reinforcement learning from<br>human feedback (RLHF), the<br>algorithm used to train<br>ChatGPT ...",
           [
            "chatgpt",
            0.5262
           ],
           [
            "chatbot",
            0.4435
           ],
           [
            "microsoft",
            0.3729
           ],
           [
            "openai",
            0.3712
           ],
           [
            "ai",
            0.3663
           ]
          ],
          [
           "Microsoft launches Azure OpenAI service with ChatGPT coming soon",
           "https://www.theverge.com/2023/1/17/23558530/microsoft-azure-openai-chatgpt-service-launch",
           "The Azure OpenAI service<br>features a number of AI models<br>made by OpenAI including<br>GPT-3.5, Codex, and DALL-E, so<br>businesses and developers can<br>utilize these systems in their<br>own apps and workloads....",
           [
            "chatgpt",
            0.5262
           ],
           [
            "chatbot",
            0.4435
           ],
           [
            "microsoft",
            0.3729
           ],
           [
            "openai",
            0.3712
           ],
           [
            "ai",
            0.3663
           ]
          ],
          [
           "ChatGPT Is the Coolest (and Most Terrifying) New Tech of 2022",
           "https://lifehacker.com/chatgpt-is-the-coolest-and-most-terrifying-new-tech-o-1849874899",
           "ChatGPT isn't the first AI<br>chatbot to hit the scene, but<br>it is the first to be this<br>lifelike. ChatGPT runs on<br>GPT-3.5 , a language model<br>that developers OpenAI (the<br>minds behind DALL·E 2 ...",
           [
            "chatgpt",
            0.5262
           ],
           [
            "chatbot",
            0.4435
           ],
           [
            "microsoft",
            0.3729
           ],
           [
            "openai",
            0.3712
           ],
           [
            "ai",
            0.3663
           ]
          ],
          [
           "ChatGPT - AI Creating 3D Animations - YouTube",
           "https://www.youtube.com/watch?v=1pB0nIZ04SA",
           "ChatGPT - AI Creating 3D<br>Animations MarbleScience 27.2K<br>subscribers Subscribe 160 5.2K<br>views 3 weeks ago I show how<br>you can use OpenAI's new chat<br>bot ChatGPT to create 3D<br>animations using...",
           [
            "chatgpt",
            0.5262
           ],
           [
            "chatbot",
            0.4435
           ],
           [
            "microsoft",
            0.3729
           ],
           [
            "openai",
            0.3712
           ],
           [
            "ai",
            0.3663
           ]
          ],
          [
           "ChatGPT Is Impressive, But Can (and Should) It Be Used in Legal?",
           "https://www.law.com/legaltechnews/2022/12/15/chatgpt-is-impressive-but-can-and-should-it-be-used-in-legal/",
           "The latest offering from<br>OpenAI, the AI research and<br>deployment company that's<br>widely recognized as being on<br>the cutting edge of AI<br>advancements, ChatGPT is a new<br>language model, or<br>\"chatbot,\"...",
           [
            "chatgpt",
            0.5262
           ],
           [
            "chatbot",
            0.4435
           ],
           [
            "microsoft",
            0.3729
           ],
           [
            "openai",
            0.3712
           ],
           [
            "ai",
            0.3663
           ]
          ],
          [
           "Teachers are adapting to concerns about ChatGPT, a powerful new AI tool ...",
           "https://edition.cnn.com/2023/01/19/tech/chatgpt-teachers-adjusting",
           "The OpenAI website ChatGPT<br>about page on laptop computer<br>arranged in the Brooklyn<br>borough of New York, US, on<br>Thursday, Jan. 12, 2023. Gabby<br>Jones/Bloomberg/Getty Images<br>Leslie Layne, an English...",
           [
            "chatgpt",
            0.5262
           ],
           [
            "chatbot",
            0.4435
           ],
           [
            "microsoft",
            0.3729
           ],
           [
            "openai",
            0.3712
           ],
           [
            "ai",
            0.3663
           ]
          ],
          [
           "Is ChatGPT driving Nvidia's stock price higher?",
           "https://www.financialexpress.com/investing-abroad/featured-stories/is-chatgpt-driving-nvidias-stock-price-higher/2958933/",
           "The artificial intelligence<br>(AI) tool ChatGPT - Chat<br>Generative Pre-trained<br>Transformer - is a chatbot<br>released by OpenAI in November<br>2022. As the buzz around<br>ChatGPT gained, the stock<br>price ...",
           [
            "chatgpt",
            0.5262
           ],
           [
            "chatbot",
            0.4435
           ],
           [
            "microsoft",
            0.3729
           ],
           [
            "openai",
            0.3712
           ],
           [
            "ai",
            0.3663
           ]
          ],
          [
           "ChatGPT: What happens next",
           "https://www.axios.com/2023/01/24/chatgpt-business-regulation-hype",
           "What's next for ChatGPT. For<br>all the talk about the power<br>of ChatGPT, Dall-E 2 and the<br>like, the generative AI era is<br>only at its inception. Here's<br>what's coming down the road.<br>The applications will get much<br>more specific. As powerful as<br>it is, ChatGPT and its art-<br>generating peers are generic.<br>The real power, many say, will<br>come as businesses ...",
           [
            "chatgpt",
            0.5262
           ],
           [
            "chatbot",
            0.4435
           ],
           [
            "microsoft",
            0.3729
           ],
           [
            "openai",
            0.3712
           ],
           [
            "ai",
            0.3663
           ]
          ],
          [
           "How will Satya Nadella handle Microsoft's ChatGPT moment?",
           "https://www.economist.com/business/2023/01/25/how-will-satya-nadella-handle-microsofts-chatgpt-moment",
           "Investing in Open AI puts Chat<br>GPT at arm's length if<br>something goes wrong. But<br>eventually, with GPT infused<br>in all of its products, it<br>will bear a big responsibility<br>for the outcome. In that ...",
           [
            "chatgpt",
            0.5262
           ],
           [
            "chatbot",
            0.4435
           ],
           [
            "microsoft",
            0.3729
           ],
           [
            "openai",
            0.3712
           ],
           [
            "ai",
            0.3663
           ]
          ],
          [
           "ChatGPT learns Bitcoin will end central banking and fiat currency",
           "https://cointelegraph.com/news/chatgpt-learns-bitcoin-will-end-central-banking-and-fiat-currency",
           "ChatGPT is a powerful new<br>artificial intelligence (AI)<br>tool, capable of problem-<br>solving, advanced coding,<br>answering complicated<br>questions and now spelling out<br>the end of fiat currencies.<br>Parman, a ...",
           [
            "chatgpt",
            0.5262
           ],
           [
            "chatbot",
            0.4435
           ],
           [
            "microsoft",
            0.3729
           ],
           [
            "openai",
            0.3712
           ],
           [
            "ai",
            0.3663
           ]
          ],
          [
           "ChatGPT | Know Your Meme",
           "https://knowyourmeme.com/memes/sites/chatgpt",
           "ChatGPT, short for Chat<br>Generative Pre-trained<br>Transformer, is an artificial<br>intelligence chatbot created<br>by OpenAI. Using a similar AI-<br>based language model that uses<br>deep learning to generate text<br>like GPT-3, it is trained to<br>interact with users in a more<br>conversational way than its<br>predecessor. According to<br>OpenAI, the AI asks follow-up<br>questions, admits to making<br>mistakes and pushes back on<br>...",
           [
            "chatgpt",
            0.5262
           ],
           [
            "chatbot",
            0.4435
           ],
           [
            "microsoft",
            0.3729
           ],
           [
            "openai",
            0.3712
           ],
           [
            "ai",
            0.3663
           ]
          ]
         ],
         "hovertemplate": "color=5<br>umap1=%{x}<br>umap2=%{y}<br>title=%{customdata[0]}<br>href=%{customdata[1]}<br>body=%{customdata[2]}<br>keyword1=%{customdata[3]}<br>keyword2=%{customdata[4]}<br>keyword3=%{customdata[5]}<br>keyword4=%{customdata[6]}<br>keyword5=%{customdata[7]}<extra></extra>",
         "legendgroup": "5",
         "marker": {
          "color": "#EF553B",
          "symbol": "circle"
         },
         "mode": "markers",
         "name": "5",
         "orientation": "v",
         "showlegend": true,
         "type": "scatter",
         "x": [
          6.274905681610107,
          6.4939188957214355,
          7.227919101715088,
          6.8179450035095215,
          7.201885223388672,
          7.089450359344482,
          7.552857398986816,
          7.7457098960876465,
          7.069733142852783,
          7.01198148727417,
          7.324913501739502,
          6.783487796783447,
          6.706386566162109,
          6.8272013664245605,
          7.264239311218262,
          6.916778564453125,
          6.737450122833252,
          7.375136852264404,
          7.405090808868408,
          6.732293128967285
         ],
         "xaxis": "x",
         "y": [
          15.835806846618652,
          16.125316619873047,
          15.746603012084961,
          16.181135177612305,
          15.532632827758789,
          15.3969087600708,
          16.034666061401367,
          16.024648666381836,
          16.69526481628418,
          15.92088794708252,
          16.763290405273438,
          15.571465492248535,
          15.765615463256836,
          15.652461051940918,
          16.38467025756836,
          15.993427276611328,
          16.04652214050293,
          16.440685272216797,
          15.576203346252441,
          15.461652755737305
         ],
         "yaxis": "y"
        },
        {
         "customdata": [
          [
           "ChatGPT passes exams from law and business schools",
           "https://www.cnn.com/2023/01/26/tech/chatgpt-passes-exams/index.html",
           "ChatGPT is smart enough to<br>pass prestigious graduate-<br>level exams - though not with<br>particularly high marks. The<br>powerful new AI chatbot tool<br>recently passed law exams in<br>four courses at the ...",
           [
            "chatgpt",
            0.4452
           ],
           [
            "exams",
            0.4082
           ],
           [
            "exam",
            0.395
           ],
           [
            "study",
            0.3399
           ],
           [
            "law",
            0.2934
           ]
          ],
          [
           "ChatGPT outperforms humans on Wharton MBA exam: professor",
           "https://nypost.com/2023/01/23/chatgpt-outperforms-humans-on-wharton-mba-exam-professor/",
           "The artificial intelligence-<br>powered chatbot ChatGPT<br>performed better than many<br>students on MBA exams at the<br>University of Pennsylvania's<br>Wharton School, a professor<br>said. Christian Terwiesch, an<br>...",
           [
            "chatgpt",
            0.4452
           ],
           [
            "exams",
            0.4082
           ],
           [
            "exam",
            0.395
           ],
           [
            "study",
            0.3399
           ],
           [
            "law",
            0.2934
           ]
          ],
          [
           "ChatGPT raises the specter of AI used as a hacking tool",
           "https://www.washingtonexaminer.com/policy/technology/chatgpt-raises-the-specter-of-ai-used-as-a-hacking-tool",
           "January 27, 2023 02:28 AM. O<br>penAI's ChatGPT conversational<br>artificial intelligence tool<br>is capable of doing many<br>things, with users<br>demonstrating how it can write<br>essays for students and cover<br>...",
           [
            "chatgpt",
            0.4452
           ],
           [
            "exams",
            0.4082
           ],
           [
            "exam",
            0.395
           ],
           [
            "study",
            0.3399
           ],
           [
            "law",
            0.2934
           ]
          ],
          [
           "Academic experts offer advice on ChatGPT",
           "https://www.insidehighered.com/news/2023/01/12/academic-experts-offer-advice-chatgpt",
           "Susan D'Agostino. January 12,<br>2023. (XH4D/Getty Images) Ever<br>since the chat bot ChatGPT<br>burst into public view in late<br>2022, students, professors and<br>administrators have been woozy<br>from a chaotic cocktail of<br>excitement, uncertainty and<br>fear. The bot writes poems,<br>sonnets and essays. It also<br>serves as a convincing debate<br>partner on a seemingly ...",
           [
            "chatgpt",
            0.4452
           ],
           [
            "exams",
            0.4082
           ],
           [
            "exam",
            0.395
           ],
           [
            "study",
            0.3399
           ],
           [
            "law",
            0.2934
           ]
          ],
          [
           "Should you use ChatGPT to apply for jobs? Here's what recruiters say",
           "https://www.fastcompany.com/90836881/should-you-use-chatgpt-to-apply-for-jobs",
           "ChatGPT, the new chatbot from<br>OpenAI, can do anything it<br>seems (as long as you don't<br>mind inaccuracies). Although<br>leveraging AI to write your<br>college essays, quietly<br>publish news, and impress ...",
           [
            "chatgpt",
            0.4452
           ],
           [
            "exams",
            0.4082
           ],
           [
            "exam",
            0.395
           ],
           [
            "study",
            0.3399
           ],
           [
            "law",
            0.2934
           ]
          ],
          [
           "A Law School Tested ChatGPT on Its Exams — It Was a C+ Student",
           "https://www.insider.com/law-school-used-chatgpt-on-exams-c-student-2023-1",
           "ChatGPT, a AI chat bot, has<br>gone viral in the past two<br>weeks. The University of<br>Minnesota law school gave<br>ChatGPT its law school exams<br>alongside real students. The<br>chatbot was a C student, with<br>a better aptitude for essays<br>than multiple choice.<br>Associate professor Jon Choi<br>told Insider law schools may<br>need to adapt their<br>curriculum.",
           [
            "chatgpt",
            0.4452
           ],
           [
            "exams",
            0.4082
           ],
           [
            "exam",
            0.395
           ],
           [
            "study",
            0.3399
           ],
           [
            "law",
            0.2934
           ]
          ],
          [
           "Scores of Stanford students used ChatGPT on final exams",
           "https://stanforddaily.com/2023/01/22/scores-of-stanford-students-used-chatgpt-on-final-exams-survey-suggests/",
           "\"ChatGPT, a popular artificial<br>intelligence tool, has<br>recently sparked a debate on<br>campus about its role in<br>academic integrity. Some argue<br>that using ChatGPT to complete<br>assignments is a ...",
           [
            "chatgpt",
            0.4452
           ],
           [
            "exams",
            0.4082
           ],
           [
            "exam",
            0.395
           ],
           [
            "study",
            0.3399
           ],
           [
            "law",
            0.2934
           ]
          ],
          [
           "Here's how ChatGPT could solve its major plagiarism problem",
           "https://www.digitaltrends.com/computing/how-chatgpt-could-solve-its-plagiarism-problem/",
           "ChatGPT is a wonderful tool<br>but there's a dark side to<br>this advanced AI service that<br>can write like an expert on<br>almost any topic — plagiarism.<br>When students that are<br>supposed to be ...",
           [
            "chatgpt",
            0.4452
           ],
           [
            "exams",
            0.4082
           ],
           [
            "exam",
            0.395
           ],
           [
            "study",
            0.3399
           ],
           [
            "law",
            0.2934
           ]
          ],
          [
           "ChatGPT (barely) passed graduate business and law exams",
           "https://www.engadget.com/chatgpt-passes-graduate-law-business-exams-210146640.html",
           "It would pass — if only just.<br>In a newly published study,<br>University of Minnesota law<br>professors had ChatGPT produce<br>answers for graduate exams at<br>four courses in their school.<br>The AI passed all ...",
           [
            "chatgpt",
            0.4452
           ],
           [
            "exams",
            0.4082
           ],
           [
            "exam",
            0.395
           ],
           [
            "study",
            0.3399
           ],
           [
            "law",
            0.2934
           ]
          ],
          [
           "These 8 Potential Use Cases of ChatGPT will Blow Your Mind!",
           "https://analyticsindiamag.com/these-8-potential-use-cases-of-chatgpt-will-blow-your-mind/",
           "ChatGPT OpenAI is likely to<br>have a colossal impact on<br>education tech. Solely<br>teaching the basics and<br>providing an avenue to have<br>doubts cleared is a big use<br>case for lots of edtech<br>companies. Homework, essays,<br>and more, are no longer<br>reliable ways to evaluate.<br>Plagiarism was present<br>earlier, but this is with a<br>level of speed, scale, and ...",
           [
            "chatgpt",
            0.4452
           ],
           [
            "exams",
            0.4082
           ],
           [
            "exam",
            0.395
           ],
           [
            "study",
            0.3399
           ],
           [
            "law",
            0.2934
           ]
          ],
          [
           "ChatGPT Has Colleges in Emergency Mode to Shield Academic Integrity ...",
           "https://www.edsurge.com/news/2023-01-24-chatgpt-has-colleges-in-emergency-mode-to-shield-academic-integrity",
           "Colleges around the country<br>have been holding emergency<br>meetings of their honor code<br>councils or other committees<br>that govern student cheating.<br>The reason: a whole new kind<br>of cheating that is suddenly<br>possible, thanks to a new AI<br>tool called ChatGPT. The<br>technology, which emerged just<br>a couple of months ago, can<br>answer just about any question<br>...",
           [
            "chatgpt",
            0.4452
           ],
           [
            "exams",
            0.4082
           ],
           [
            "exam",
            0.395
           ],
           [
            "study",
            0.3399
           ],
           [
            "law",
            0.2934
           ]
          ],
          [
           "The Brilliance and Weirdness of ChatGPT - The New York Times",
           "https://www.nytimes.com/2022/12/05/technology/chatgpt-ai-twitter.html",
           "ChatGPT: The cutting-edge<br>chatbot is raising fears of<br>students cheating on their<br>homework. But its potential as<br>an educational tool outweighs<br>its risks, our technology<br>columnist writes .",
           [
            "chatgpt",
            0.4452
           ],
           [
            "exams",
            0.4082
           ],
           [
            "exam",
            0.395
           ],
           [
            "study",
            0.3399
           ],
           [
            "law",
            0.2934
           ]
          ],
          [
           "Why schools need to figure out how to deal with ChatGPT | The Star",
           "https://www.thestar.com/news/gta/2023/01/21/chatgpt-is-a-pretty-good-student-why-schools-need-to-figure-out-this-ai-technology-fast.html",
           "ChatGPT is a pretty good<br>student: Why schools need to<br>figure out this AI technology<br>fast It can quickly spew out a<br>B-level essay. But will it<br>spark a rise in cheating?<br>Educators are scrambling to<br>...",
           [
            "chatgpt",
            0.4452
           ],
           [
            "exams",
            0.4082
           ],
           [
            "exam",
            0.395
           ],
           [
            "study",
            0.3399
           ],
           [
            "law",
            0.2934
           ]
          ],
          [
           "ChatGPT Writes Essays on Constitutional Law, Taxation, Passes Exams at ...",
           "https://www.gadgets360.com/internet/news/chatgpt-us-law-school-exam-passed-openai-3723873",
           "ChatGPT, the chatbot from<br>OpenAI that has taken the<br>internet by storm, has written<br>essays on topics ranging from<br>constitutional law to taxation<br>and torts and passed exams at<br>a US law school. A professor<br>at Minnesota University Law<br>School, gave ChatGPT the same<br>test faced by students,<br>consisting of 95 multiple-<br>choice questions and 12 essay<br>questions.",
           [
            "chatgpt",
            0.4452
           ],
           [
            "exams",
            0.4082
           ],
           [
            "exam",
            0.395
           ],
           [
            "study",
            0.3399
           ],
           [
            "law",
            0.2934
           ]
          ],
          [
           "ChatGPT Bot Passes U.S. Law School Exam -- with a C+ Grade",
           "https://www.breitbart.com/tech/2023/01/25/chatgpt-bot-passes-u-s-law-school-exam-with-a-c-grade/",
           "ChatGPT from OpenAI, a U.S.<br>company that this week got a<br>massive injection of cash from<br>Microsoft, uses artificial<br>intelligence (AI) to generate<br>streams of text from simple<br>prompts. The results have been<br>so good that educators have<br>warned it could lead to<br>widespread cheating and even<br>signal the end of traditional<br>classroom teaching methods.",
           [
            "chatgpt",
            0.4452
           ],
           [
            "exams",
            0.4082
           ],
           [
            "exam",
            0.395
           ],
           [
            "study",
            0.3399
           ],
           [
            "law",
            0.2934
           ]
          ],
          [
           "Scientific journals ban ChatGPT use by researchers to author studies ...",
           "https://www.independent.co.uk/tech/chatgpt-ai-journals-ban-author-b2270334.html",
           "ChatGPT rival passes<br>university exam However, users<br>of the AI chatbot have also<br>flagged that it sometimes<br>provides plausible-sounding<br>but incorrect responses with<br>glaring mistakes to some<br>queries.",
           [
            "chatgpt",
            0.4452
           ],
           [
            "exams",
            0.4082
           ],
           [
            "exam",
            0.395
           ],
           [
            "study",
            0.3399
           ],
           [
            "law",
            0.2934
           ]
          ],
          [
           "ChatGPT takes on high level tests - One America News Network",
           "https://www.oann.com/newsroom/chatgpt-takes-on-high-level-tests/",
           "ChatGPT has also taken two of<br>the seven components of the<br>Bar exam, a test that law<br>school graduates must pass to<br>be able to practice law. The<br>first part of the test that it<br>took was the multiple ...",
           [
            "chatgpt",
            0.4452
           ],
           [
            "exams",
            0.4082
           ],
           [
            "exam",
            0.395
           ],
           [
            "study",
            0.3399
           ],
           [
            "law",
            0.2934
           ]
          ]
         ],
         "hovertemplate": "color=4<br>umap1=%{x}<br>umap2=%{y}<br>title=%{customdata[0]}<br>href=%{customdata[1]}<br>body=%{customdata[2]}<br>keyword1=%{customdata[3]}<br>keyword2=%{customdata[4]}<br>keyword3=%{customdata[5]}<br>keyword4=%{customdata[6]}<br>keyword5=%{customdata[7]}<extra></extra>",
         "legendgroup": "4",
         "marker": {
          "color": "#00cc96",
          "symbol": "circle"
         },
         "mode": "markers",
         "name": "4",
         "orientation": "v",
         "showlegend": true,
         "type": "scatter",
         "x": [
          5.871942520141602,
          5.867051601409912,
          6.365023612976074,
          6.872771739959717,
          6.4987640380859375,
          5.998078346252441,
          6.102102279663086,
          6.094232082366943,
          5.933116436004639,
          6.452195167541504,
          6.156047344207764,
          6.4834089279174805,
          6.299563407897949,
          6.066802024841309,
          6.674383640289307,
          5.994428634643555,
          5.915958881378174
         ],
         "xaxis": "x",
         "y": [
          12.925729751586914,
          12.908425331115723,
          13.454774856567383,
          13.071388244628906,
          13.49233627319336,
          12.70079517364502,
          12.292170524597168,
          12.252185821533203,
          12.638805389404297,
          12.707072257995605,
          12.247285842895508,
          12.286219596862793,
          12.137613296508789,
          12.878266334533691,
          12.6524019241333,
          12.942724227905273,
          12.822854995727539
         ],
         "yaxis": "y"
        },
        {
         "customdata": [
          [
           "What is ChatGPT? The AI text generator explained",
           "https://www.trustedreviews.com/explainer/what-is-chatgpt-4297405",
           "ChatGPT is a chatbot created<br>by the artificial intelligence<br>research company OpenAI that<br>was first released in November<br>2022. The name ChatGPT stands<br>for Chat Generative Pre-<br>trained Transformer ...",
           [
            "chatgpt",
            0.6383
           ],
           [
            "imessage",
            0.4338
           ],
           [
            "ai",
            0.3901
           ],
           [
            "text",
            0.3585
           ],
           [
            "talking",
            0.3206
           ]
          ],
          [
           "ChatGPT passes MBA exam given by a Wharton professor",
           "https://www.nbcnews.com/tech/tech-news/chatgpt-passes-mba-exam-wharton-professor-rcna67036",
           "ChatGPT, the newest version,<br>\"is fine-tuned from a model in<br>the GPT-3.5 series,\" according<br>to OpenAI's website. While<br>Chat GPT3's results were<br>impressive, Terwiesch noted<br>that Chat GPT3 ...",
           [
            "chatgpt",
            0.6383
           ],
           [
            "imessage",
            0.4338
           ],
           [
            "ai",
            0.3901
           ],
           [
            "text",
            0.3585
           ],
           [
            "talking",
            0.3206
           ]
          ],
          [
           "ChatGPT is changing education, AI experts say — but how?",
           "https://www.dw.com/en/chatgpt-is-changing-education-ai-experts-say-but-how/a-64454752",
           "It was only a few days after<br>ChatGPT, an AI-powered<br>chatbot, had been released to<br>the public on November 30,<br>2022, by a company called<br>OpenAI. Anyone can interact<br>with ChatGPT via an internet<br>browser.",
           [
            "chatgpt",
            0.6383
           ],
           [
            "imessage",
            0.4338
           ],
           [
            "ai",
            0.3901
           ],
           [
            "text",
            0.3585
           ],
           [
            "talking",
            0.3206
           ]
          ],
          [
           "ChatGPT bot passes US law school exam | Mint",
           "https://www.livemint.com/technology/tech-news/chatgpt-bot-passes-us-law-school-exam-11674647474505.html",
           "Updated: 25 Jan 2023, 05:25 PM<br>IST AFP. ChatGPT was first<br>launched in December last year<br>(AFP) A chatbot powered by<br>reams of data from the<br>internet has passed exams at a<br>US law school after ...",
           [
            "chatgpt",
            0.6383
           ],
           [
            "imessage",
            0.4338
           ],
           [
            "ai",
            0.3901
           ],
           [
            "text",
            0.3585
           ],
           [
            "talking",
            0.3206
           ]
          ],
          [
           "ChatGPT: AI has become the next big thing - axios.com",
           "https://www.axios.com/2023/01/24/chatgpt-openai-iphone-boom",
           "ChatGPT has captured the<br>public imagination in a way<br>the tech world hasn't seen<br>since the debut of the iPhone<br>in 2007.. Why it matters: Most<br>of us are only now getting a<br>glimpse of just how smart<br>artificial intelligence has<br>become.It's awe-inducing — and<br>terrifying. When ChatGPT<br>launched to the public, it<br>proved to be much more<br>advanced than even many in the<br>tech industry had expected.",
           [
            "chatgpt",
            0.6383
           ],
           [
            "imessage",
            0.4338
           ],
           [
            "ai",
            0.3901
           ],
           [
            "text",
            0.3585
           ],
           [
            "talking",
            0.3206
           ]
          ],
          [
           "What To Know About ChatGPT - theonion.com",
           "https://www.theonion.com/what-to-know-about-chatgpt-1850003014",
           "A: A process by which machines<br>use data-driven models to<br>undermine some previously<br>functional aspect of human<br>life. Q: Who made ChatGPT? A:<br>OpenAI, a research laboratory<br>established by some of Silicon<br>Valley's most forward-thinking<br>bots. Q: How does ChatGPT<br>work? A: It smokes a fat joint<br>and just lets the words flow,<br>man.",
           [
            "chatgpt",
            0.6383
           ],
           [
            "imessage",
            0.4338
           ],
           [
            "ai",
            0.3901
           ],
           [
            "text",
            0.3585
           ],
           [
            "talking",
            0.3206
           ]
          ],
          [
           "Opinion: ChatGPT could be a game-changer for marketers, but it won't ...",
           "https://techxplore.com/news/2023-01-opinion-chatgpt-game-changer-wont-humans.html",
           "ChatGPT is a chatbot that was<br>launched by OpenAI in November<br>2022. Credit: Shutterstock.<br>The recent release of the<br>ChatGPT chatbot in November<br>2022 has generated significant<br>public interest. In essence,<br>ChatGPT is an AI-powered<br>chatbot allowing users to<br>simulate human-like<br>conversations with an AI. GPT<br>stands for Generative Pre-<br>trained ...",
           [
            "chatgpt",
            0.6383
           ],
           [
            "imessage",
            0.4338
           ],
           [
            "ai",
            0.3901
           ],
           [
            "text",
            0.3585
           ],
           [
            "talking",
            0.3206
           ]
          ],
          [
           "Fix ChatGPT Error Codes 1020, 524, 404, 403",
           "https://www.thewindowsclub.com/fix-chatgpt-error-codes-1020-524-404-403",
           "If you are experiencing<br>ChatGPT error codes 1020, 524,<br>404, or 403 when using the AI<br>tool, here is a guide to help<br>fix these ChatGPT errors.",
           [
            "chatgpt",
            0.6383
           ],
           [
            "imessage",
            0.4338
           ],
           [
            "ai",
            0.3901
           ],
           [
            "text",
            0.3585
           ],
           [
            "talking",
            0.3206
           ]
          ],
          [
           "9 Ideas to Use ChatGPT for IT Support - blog.invgate.com",
           "https://blog.invgate.com/chatgpt-for-it-support",
           "ChatGPT is the newest social<br>media sensation. According to<br>Open AI's President Greg<br>Brockman, more than a million<br>people signed up to try the<br>chatbot in just five days of<br>its launch. From writing codes<br>and college essays to<br>explaining scientific<br>concepts, people seem to be<br>putting it to the test - and<br>we aren't the exception.",
           [
            "chatgpt",
            0.6383
           ],
           [
            "imessage",
            0.4338
           ],
           [
            "ai",
            0.3901
           ],
           [
            "text",
            0.3585
           ],
           [
            "talking",
            0.3206
           ]
          ],
          [
           "What Nobody is Talking About When it Comes to ChatGPT",
           "https://news.northeastern.edu/2023/01/23/chatgpt-openai-chatpot/",
           "Here's what nobody is talking<br>about when it comes to<br>ChatGPT. ChatGPT, an AI-driven<br>chatbot from OpenAI, has<br>garnered equal parts praise<br>and criticism for what it can<br>produce, but Northeastern<br>professor Laura Huang says<br>what really matters is how and<br>what humans feed into it.<br>Photo by Matthew<br>Modoono/Northeastern<br>University.",
           [
            "chatgpt",
            0.6383
           ],
           [
            "imessage",
            0.4338
           ],
           [
            "ai",
            0.3901
           ],
           [
            "text",
            0.3585
           ],
           [
            "talking",
            0.3206
           ]
          ],
          [
           "Why ChatGPT is having an iPhone moment (with a unique twist)",
           "https://venturebeat.com/ai/why-this-chatgpt-moment-harks-back-to-the-original-iphone/",
           "It made people aware \"that you<br>could have this handheld<br>computer that is basically<br>like [having] a Star Trek<br>tricorder in our hand — this<br>thing with tons of sensors and<br>capability,\" he said....",
           [
            "chatgpt",
            0.6383
           ],
           [
            "imessage",
            0.4338
           ],
           [
            "ai",
            0.3901
           ],
           [
            "text",
            0.3585
           ],
           [
            "talking",
            0.3206
           ]
          ],
          [
           "ChatGPT for iMessage, Slack, user feedback, and beyond",
           "https://www.producthunt.com/stories/chatgpt-for-imessage-slack-user-feedback-and-beyond",
           "ChatGPT reached 1M users just<br>five days after it launched, a<br>feat that took Instagram two<br>and half months, and Airbnb<br>two and half years. Sure,<br>Airbnb in particular is an<br>apples-to-oranges comparison<br>since it takes users longer to<br>adopt a travel-based product,<br>but it still puts ChatGPT's<br>virality into perspective (5<br>days!)",
           [
            "chatgpt",
            0.6383
           ],
           [
            "imessage",
            0.4338
           ],
           [
            "ai",
            0.3901
           ],
           [
            "text",
            0.3585
           ],
           [
            "talking",
            0.3206
           ]
          ]
         ],
         "hovertemplate": "color=8<br>umap1=%{x}<br>umap2=%{y}<br>title=%{customdata[0]}<br>href=%{customdata[1]}<br>body=%{customdata[2]}<br>keyword1=%{customdata[3]}<br>keyword2=%{customdata[4]}<br>keyword3=%{customdata[5]}<br>keyword4=%{customdata[6]}<br>keyword5=%{customdata[7]}<extra></extra>",
         "legendgroup": "8",
         "marker": {
          "color": "#ab63fa",
          "symbol": "circle"
         },
         "mode": "markers",
         "name": "8",
         "orientation": "v",
         "showlegend": true,
         "type": "scatter",
         "x": [
          8.835107803344727,
          8.557490348815918,
          9.355123519897461,
          9.251649856567383,
          8.37220573425293,
          9.016818046569824,
          8.860132217407227,
          9.238746643066406,
          9.026189804077148,
          8.418228149414062,
          8.29731273651123,
          9.671045303344727
         ],
         "xaxis": "x",
         "y": [
          15.581504821777344,
          15.721522331237793,
          15.744359016418457,
          15.489304542541504,
          15.471369743347168,
          15.786123275756836,
          15.549734115600586,
          14.964448928833008,
          15.209758758544922,
          15.149060249328613,
          15.494894027709961,
          15.14399242401123
         ],
         "yaxis": "y"
        },
        {
         "customdata": [
          [
           "ChatGPT In Schools: Here's Where It's Banned—And How It Could ...",
           "https://www.forbes.com/sites/ariannajohnson/2023/01/18/chatgpt-in-schools-heres-where-its-banned-and-how-it-could-potentially-help-students/",
           "ChatGPT can help water down<br>difficult passages for<br>students with lower reading<br>levels, Shana Ramin, a<br>technology integration<br>specialist with Oakland<br>Schools in Michigan, told U.S.<br>News. This makes ...",
           [
            "chatgpt",
            0.4891
           ],
           [
            "educators",
            0.417
           ],
           [
            "teaching",
            0.406
           ],
           [
            "teachers",
            0.3767
           ],
           [
            "teacher",
            0.3755
           ]
          ],
          [
           "People are already using ChatGPT to create workout plans",
           "https://www.technologyreview.com/2023/01/26/1067299/chatgpt-workout-plans/",
           "He asked ChatGPT to create an<br>\"optimal leg day\" program. It<br>suggested the right sorts of<br>exercises—squats, lunges,<br>deadlifts, and so on—but the<br>rest times between them were<br>far too brief ...",
           [
            "chatgpt",
            0.4891
           ],
           [
            "educators",
            0.417
           ],
           [
            "teaching",
            0.406
           ],
           [
            "teachers",
            0.3767
           ],
           [
            "teacher",
            0.3755
           ]
          ],
          [
           "What is ChatGPT and which schools have banned it? - Deseret News",
           "https://www.deseret.com/2023/1/18/23561341/what-is-chatgpt-school-bans",
           "On Wednesday, Forbes shared a<br>list of schools that have<br>taken action in hopes of<br>stifling nefarious use of<br>ChatGPT for schoolwork: A<br>representative for Seattle<br>Public Schools told Geekwire<br>the district banned ChatGPT<br>from all school devices,<br>citing the district \"does not<br>allow cheating and requires<br>original thought and work from<br>students.\".",
           [
            "chatgpt",
            0.4891
           ],
           [
            "educators",
            0.417
           ],
           [
            "teaching",
            0.406
           ],
           [
            "teachers",
            0.3767
           ],
           [
            "teacher",
            0.3755
           ]
          ],
          [
           "Is ChatGPT a cybersecurity threat? • TechCrunch",
           "https://techcrunch.com/2023/01/11/chatgpt-cybersecurity-threat/",
           "Not only have ChatGPT's human-<br>like abilities taken the<br>internet by storm, but it has<br>also set a number of<br>industries on edge: a New York<br>school banned ChatGPT over<br>fears that it could be used to<br>...",
           [
            "chatgpt",
            0.4891
           ],
           [
            "educators",
            0.417
           ],
           [
            "teaching",
            0.406
           ],
           [
            "teachers",
            0.3767
           ],
           [
            "teacher",
            0.3755
           ]
          ],
          [
           "With ChatGPT, Teachers Can Plan Lessons, Write Emails, and More. What's ...",
           "https://www.edweek.org/technology/with-chatgpt-teachers-can-plan-lessons-write-emails-and-more-whats-the-catch/2023/01",
           "ChatGPT lessons are the<br>'recipe,' but the teacher is<br>still the chef. Late last<br>month, Stephen Lockyer, a<br>primary school teacher in west<br>London, tweeted that AI would<br>be \"transformative\" as ...",
           [
            "chatgpt",
            0.4891
           ],
           [
            "educators",
            0.417
           ],
           [
            "teaching",
            0.406
           ],
           [
            "teachers",
            0.3767
           ],
           [
            "teacher",
            0.3755
           ]
          ],
          [
           "ChatGPT: Implications for Teaching and Student Learning | CRLT",
           "https://crlt.umich.edu/blog/chatgpt-implications-teaching-and-student-learning",
           "ChatGPT is being used to<br>create commentary and to grade<br>assignments, and when supplied<br>with a rubric and original<br>draft will revise to meet the<br>new specifications. The final<br>suggestion is the best: \"Focus<br>on research skills and the<br>expression of original<br>thought, rather than creating<br>a synthesized document.\" ...",
           [
            "chatgpt",
            0.4891
           ],
           [
            "educators",
            0.417
           ],
           [
            "teaching",
            0.406
           ],
           [
            "teachers",
            0.3767
           ],
           [
            "teacher",
            0.3755
           ]
          ],
          [
           "Don't Ban ChatGPT in Schools. Teach With It. - The New York Times",
           "https://www.nytimes.com/2023/01/12/technology/chatgpt-schools-teachers.html",
           "ChatGPT is new — it was<br>released in late November —<br>but it has already sent many<br>educators into a panic.<br>Students are using it to write<br>their assignments, passing off<br>A.I.-generated essays and ...",
           [
            "chatgpt",
            0.4891
           ],
           [
            "educators",
            0.417
           ],
           [
            "teaching",
            0.406
           ],
           [
            "teachers",
            0.3767
           ],
           [
            "teacher",
            0.3755
           ]
          ],
          [
           "Is ChatGPT a threat to education? | News",
           "https://news.ucr.edu/articles/2023/01/24/chatgpt-threat-education",
           "A: ChatGPT uses a predictive<br>algorithm that replicates<br>common patterns, and thus<br>produces text that is<br>unoriginal, unvoiced, and<br>lacking in style. Novice<br>creative writing students<br>might struggle to write with<br>those qualities. Instructors<br>often show students a<br>published story, but students<br>struggle to bridge the gap<br>between their writing and the<br>...",
           [
            "chatgpt",
            0.4891
           ],
           [
            "educators",
            0.417
           ],
           [
            "teaching",
            0.406
           ],
           [
            "teachers",
            0.3767
           ],
           [
            "teacher",
            0.3755
           ]
          ],
          [
           "ChatGPT's Sam Altman: Schools Should Get Over Cheating Fear",
           "https://gizmodo.com/chatgpt-openai-ceo-sam-altman-schools-cheating-1850011314",
           "ChatGPT is already banned at<br>public schools in New York<br>City, Los Angeles, Seattle,<br>Fairfax County Virginia, and<br>the list is only growing. But<br>Sam Altman, the CEO of<br>ChatGPT's maker Open AI, has<br>...",
           [
            "chatgpt",
            0.4891
           ],
           [
            "educators",
            0.417
           ],
           [
            "teaching",
            0.406
           ],
           [
            "teachers",
            0.3767
           ],
           [
            "teacher",
            0.3755
           ]
          ],
          [
           "'Everybody is cheating': Why this teacher has adopted an open ChatGPT ...",
           "https://www.npr.org/2023/01/26/1151499213/chatgpt-ai-education-cheating-classroom-wharton-school",
           "This year, Mollick is not only<br>allowing his students to use<br>ChatGPT, they are required to.<br>And he has formally adopted an<br>A.I. policy into his syllabus<br>for the first time. He teaches<br>classes in ...",
           [
            "chatgpt",
            0.4891
           ],
           [
            "educators",
            0.417
           ],
           [
            "teaching",
            0.406
           ],
           [
            "teachers",
            0.3767
           ],
           [
            "teacher",
            0.3755
           ]
          ],
          [
           "Leveraging ChatGPT: Practical Ideas for Educators",
           "https://www.ascd.org/blogs/leveraging-chatgpt-practical-ideas-for-educators?_hsenc=p2ANqtz-8sTBt7h1Fuk-G0lljMYg8qLqTbBMcHPpcRRqdn7iude4QAoUVnYhCd2m4H_Lz1r-m4ZS93xpiulI2eWVqTjakfRXk9dfD0Xu1cdbU2EgTcQlavo4U&_hsmi=243344900",
           "ChatGPT can be a valuable tool<br>to help teachers build<br>information literacy skills in<br>the classroom. One example<br>lesson builds directly onto<br>the flipped-classroom<br>approach. After students have<br>used ChatGPT to generate a<br>response tailored to their<br>research question, teachers<br>could use this moment to show<br>students how to evaluate the<br>validity ...",
           [
            "chatgpt",
            0.4891
           ],
           [
            "educators",
            0.417
           ],
           [
            "teaching",
            0.406
           ],
           [
            "teachers",
            0.3767
           ],
           [
            "teacher",
            0.3755
           ]
          ],
          [
           "ChatGPT: Threat or Menace? | Higher Ed Gamma",
           "https://www.insidehighered.com/blogs/higher-ed-gamma/chatgpt-threat-or-menace",
           "The text that ChatGPT \"wrote\"<br>in response to the prompt. An<br>essay that builds on the<br>ChatGPT foundation,<br>supplemented with additional<br>research that must be cited in<br>a bibliography. A list of the<br>corrections, revisions and<br>additions that the student<br>made in producing the reworked<br>essay. We will devote time in<br>class to discussing the text<br>...",
           [
            "chatgpt",
            0.4891
           ],
           [
            "educators",
            0.417
           ],
           [
            "teaching",
            0.406
           ],
           [
            "teachers",
            0.3767
           ],
           [
            "teacher",
            0.3755
           ]
          ],
          [
           "ChatGPT Is a Mirror of Our Times - Nautilus",
           "https://nautil.us/chatgpt-is-a-mirror-of-our-times-258320/",
           "High school humanities teacher<br>Daniel Herman writes in The<br>Atlantic that, \"My life—and<br>the lives of thousands of<br>other teachers and professors,<br>tutors and administrators—is<br>about to drastically change.\".<br>He thinks that ChatGPT will<br>exact a \"heavy toll\" on the<br>current system of education.<br>Schools are already fighting a<br>rearguard action.",
           [
            "chatgpt",
            0.4891
           ],
           [
            "educators",
            0.417
           ],
           [
            "teaching",
            0.406
           ],
           [
            "teachers",
            0.3767
           ],
           [
            "teacher",
            0.3755
           ]
          ],
          [
           "Almost 30% of Professionals Have Used ChatGPT for Work Purposes",
           "https://www.pcmag.com/news/almost-30-of-professionals-have-used-chatgpt-for-work-purposes",
           "About 20% of the women polled<br>had adopted ChatGPT while 30%<br>of men had. In terms of age<br>groups, workers from<br>Generation Z (people born in<br>the late 1990s to early 2000s)<br>have adopted ChatGPT the ...",
           [
            "chatgpt",
            0.4891
           ],
           [
            "educators",
            0.417
           ],
           [
            "teaching",
            0.406
           ],
           [
            "teachers",
            0.3767
           ],
           [
            "teacher",
            0.3755
           ]
          ]
         ],
         "hovertemplate": "color=9<br>umap1=%{x}<br>umap2=%{y}<br>title=%{customdata[0]}<br>href=%{customdata[1]}<br>body=%{customdata[2]}<br>keyword1=%{customdata[3]}<br>keyword2=%{customdata[4]}<br>keyword3=%{customdata[5]}<br>keyword4=%{customdata[6]}<br>keyword5=%{customdata[7]}<extra></extra>",
         "legendgroup": "9",
         "marker": {
          "color": "#FFA15A",
          "symbol": "circle"
         },
         "mode": "markers",
         "name": "9",
         "orientation": "v",
         "showlegend": true,
         "type": "scatter",
         "x": [
          7.05907678604126,
          7.3047027587890625,
          7.266157150268555,
          7.739637851715088,
          6.505757808685303,
          6.971823692321777,
          6.819103717803955,
          6.658568382263184,
          7.504123687744141,
          6.694603443145752,
          6.781525135040283,
          7.304210186004639,
          6.909119129180908,
          7.40054178237915
         ],
         "xaxis": "x",
         "y": [
          11.891539573669434,
          12.936182975769043,
          12.194470405578613,
          12.324438095092773,
          12.068843841552734,
          11.80030345916748,
          12.291632652282715,
          11.618017196655273,
          12.232935905456543,
          12.238542556762695,
          12.104700088500977,
          11.691901206970215,
          12.094927787780762,
          11.7429838180542
         ],
         "yaxis": "y"
        },
        {
         "customdata": [
          [
           "ChatGPT: what is it, and why is it controversial?",
           "https://www.thenationalnews.com/business/technology/2023/01/24/chatgpt-what-is-it-and-why-is-it-controversial/",
           "If you haven't already heard<br>of ChatGPT, it probably wasn't<br>going to be long before you<br>did. The new artificial<br>intelligence-based chatbot<br>created by San Francisco-based<br>OpenAI, which was co-founded<br>by Elon Musk, has been<br>creating waves across the<br>internet with its writing<br>ability and responses to<br>requests.",
           [
            "chatgpt",
            0.5966
           ],
           [
            "openai",
            0.4725
           ],
           [
            "chatbot",
            0.3983
           ],
           [
            "chat",
            0.375
           ],
           [
            "gpt",
            0.369
           ]
          ],
          [
           "Everything We Know About OpenAI's ChatGPT",
           "https://news.yahoo.com/everything-know-openais-chatgpt-110000172.html",
           "ChatGPT was created by OpenAI<br>and launched in November of<br>last year. Partially founded<br>by Elon Musk, OpenAI is an<br>organization that is dedicated<br>to the research and<br>development of artificial<br>intelligence. OpenAI has a<br>number of other controversial<br>investors, such as rightwing<br>billionaire Peter Thiel, who<br>offered a substantial amount<br>of ...",
           [
            "chatgpt",
            0.5966
           ],
           [
            "openai",
            0.4725
           ],
           [
            "chatbot",
            0.3983
           ],
           [
            "chat",
            0.375
           ],
           [
            "gpt",
            0.369
           ]
          ],
          [
           "You'll Be Seeing ChatGPT's Influence Everywhere This Year",
           "https://www.cnet.com/tech/services-and-software/chatgpt-is-going-to-be-everywhere-in-2023/",
           "ChatGPT's potential impact on<br>the way we work is already<br>dominating headlines in 2023.<br>Greg Brockman, president and<br>co-founder of OpenAI, said in<br>a Jan. 10 tweet that a<br>professional paid version ...",
           [
            "chatgpt",
            0.5966
           ],
           [
            "openai",
            0.4725
           ],
           [
            "chatbot",
            0.3983
           ],
           [
            "chat",
            0.375
           ],
           [
            "gpt",
            0.369
           ]
          ],
          [
           "Is There A ChatGPT Stock? Can You Invest In ChatGPT And Other Types Of ...",
           "https://www.forbes.com/sites/qai/2022/12/21/is-there-a-chatgpt-stock-can-you-invest-in-chatgpt-and-other-types-of-artificial-intelligence/",
           "ChatGPT is the newest product<br>from OpenAI, a company started<br>by Elon Musk and Sam Altman.<br>The program is based on<br>OpenAI's GPT-3.5 language<br>mode, an upgraded version of<br>the model that was ...",
           [
            "chatgpt",
            0.5966
           ],
           [
            "openai",
            0.4725
           ],
           [
            "chatbot",
            0.3983
           ],
           [
            "chat",
            0.375
           ],
           [
            "gpt",
            0.369
           ]
          ],
          [
           "EXPLAINER: What is ChatGPT and why are schools blocking it?",
           "https://apnews.com/article/what-is-chat-gpt-ac4967a4fb41fda31c4d27f015e32660",
           "ChatGPT launched on Nov. 30<br>but is part of a broader set<br>of technologies developed by<br>the San Francisco-based<br>startup OpenAI, which has a<br>close relationship with<br>Microsoft. It's part of a new<br>generation of AI systems that<br>can converse, generate<br>readable text on demand and<br>even produce novel images and<br>video based on what they've<br>learned ...",
           [
            "chatgpt",
            0.5966
           ],
           [
            "openai",
            0.4725
           ],
           [
            "chatbot",
            0.3983
           ],
           [
            "chat",
            0.375
           ],
           [
            "gpt",
            0.369
           ]
          ],
          [
           "Wolfram|Alpha as the Way to Bring Computational Knowledge Superpowers ...",
           "https://writings.stephenwolfram.com/2023/01/wolframalpha-as-the-way-to-bring-computational-knowledge-superpowers-to-chatgpt/",
           "ChatGPT and Wolfram|Alpha.<br>It's always amazing when<br>things suddenly \"just work\".<br>It happened to us with<br>Wolfram|Alpha back in 2009. It<br>happened with our Physics<br>Project in 2020. And it's<br>happening now with OpenAI's<br>ChatGPT.. I've been tracking<br>neural net technology for a<br>long time (about 43 years,<br>actually).And even having<br>watched developments in the<br>past few years I find the ...",
           [
            "chatgpt",
            0.5966
           ],
           [
            "openai",
            0.4725
           ],
           [
            "chatbot",
            0.3983
           ],
           [
            "chat",
            0.375
           ],
           [
            "gpt",
            0.369
           ]
          ],
          [
           "ChatGPT - Visual Studio Marketplace",
           "https://marketplace.visualstudio.com/items?itemName=gencay.vscode-chatgpt",
           "ChatGPT, GPT-3 and Codex<br>conversations in Visual Studio<br>Code New feature - Use<br>Official OpenAI GPT3 APIs or<br>browser integration with zero-<br>config. The extension now<br>supports official APIs from<br>OpenAI along with zero-config<br>browser based integration.<br>Simply switch methods in your<br>settings and use your API Key<br>to ask questions.",
           [
            "chatgpt",
            0.5966
           ],
           [
            "openai",
            0.4725
           ],
           [
            "chatbot",
            0.3983
           ],
           [
            "chat",
            0.375
           ],
           [
            "gpt",
            0.369
           ]
          ],
          [
           "10 Fascinating ChatGPT Statistics & Facts [2023]",
           "https://meetanshi.com/blog/chatgpt-statistics/",
           "ChatGPT Statistics & Facts -<br>Highlights. 1. ChatGPT<br>Attracted 1 Million Users in a<br>Week. OpenAI, a San-Francisco-<br>based artificial intelligence<br>research, and deployment<br>company launched the ChatGPT<br>on November 30, 2022, as a<br>research preview. Taking off<br>the ground, ChatGPT crossed<br>the milestone of 1 million<br>users within five days of its<br>launch.",
           [
            "chatgpt",
            0.5966
           ],
           [
            "openai",
            0.4725
           ],
           [
            "chatbot",
            0.3983
           ],
           [
            "chat",
            0.375
           ],
           [
            "gpt",
            0.369
           ]
          ],
          [
           "EXPLAINER: What is ChatGPT and why are schools blocking it?",
           "https://abcnews.go.com/Business/wireStory/explainer-chatgpt-schools-blocking-96269410",
           "ChatGPT launched on Nov. 30<br>but is part of a broader set<br>of technologies developed by<br>the San Francisco-based<br>startup OpenAI, which has a<br>close relationship with<br>Microsoft.",
           [
            "chatgpt",
            0.5966
           ],
           [
            "openai",
            0.4725
           ],
           [
            "chatbot",
            0.3983
           ],
           [
            "chat",
            0.375
           ],
           [
            "gpt",
            0.369
           ]
          ],
          [
           "Everything We Know About ChatGPT, OpenAI's Powerful AI Chatbot",
           "https://gizmodo.com/chat-gpt-openai-ai-finance-ai-everything-we-know-1850018307",
           "ChatGPT was created by OpenAI<br>and launched in November of<br>last year. Partially founded<br>by Elon Musk, OpenAI is an<br>organization that is dedicated<br>to the research and<br>development of artificial ...",
           [
            "chatgpt",
            0.5966
           ],
           [
            "openai",
            0.4725
           ],
           [
            "chatbot",
            0.3983
           ],
           [
            "chat",
            0.375
           ],
           [
            "gpt",
            0.369
           ]
          ],
          [
           "ChatGPT: This Incredible AI Chatbot May Replace Junior Software ...",
           "https://medium.com/techtofreedom/chatgpt-this-incredible-ai-chatbot-may-replace-junior-software-engineers-9bdfaee7ff7e",
           "ChatGPT is an amazing AI model<br>introduced by OpenAI. It has<br>programming skills and can<br>write scripts in any language<br>we required. It can also help<br>us debug our programs and code<br>snippets.",
           [
            "chatgpt",
            0.5966
           ],
           [
            "openai",
            0.4725
           ],
           [
            "chatbot",
            0.3983
           ],
           [
            "chat",
            0.375
           ],
           [
            "gpt",
            0.369
           ]
          ],
          [
           "45 ChatGPT Statistics for 2023 | CUFinder",
           "https://companyurlfinder.com/blog/chatgpt-statistics-2023/",
           "A single ChatGPT query uses at<br>least 8 GPUs. See also Twitter<br>in 2023: A Look at the Latest<br>Usage Statistics and Trends.<br>32. ChatGPT's revenue<br>prediction. OpenAI Company<br>predicts that ChatGPT revenue<br>will be around US $ 200<br>million by the end of 2023,<br>and surprisingly, it will jump<br>to US $1 billion by the end of<br>2024!",
           [
            "chatgpt",
            0.5966
           ],
           [
            "openai",
            0.4725
           ],
           [
            "chatbot",
            0.3983
           ],
           [
            "chat",
            0.375
           ],
           [
            "gpt",
            0.369
           ]
          ],
          [
           "So, you want to use ChatGPT in the classroom this semester?",
           "https://www.timeshighereducation.com/campus/so-you-want-use-chatgpt-classroom-semester",
           "ChatGPT running costs are<br>estimated at $3 million per<br>month, and OpenAI is a private<br>company, so they can't be<br>counted on to keep it running<br>free forever as a public good.<br>If it's eventually priced<br>similarly to GPT-3 (the AI<br>language model on which it's<br>based) then it'll be fairly<br>cheap - probably only a few<br>cents to write an article ...",
           [
            "chatgpt",
            0.5966
           ],
           [
            "openai",
            0.4725
           ],
           [
            "chatbot",
            0.3983
           ],
           [
            "chat",
            0.375
           ],
           [
            "gpt",
            0.369
           ]
          ],
          [
           "Microsoft Invests Billions in ChatGPT-Maker OpenAI",
           "https://www.securityweek.com/microsoft-invests-billions-chatgpt-maker-openai/",
           "Microsoft says it is making a<br>\"multiyear, multibillion<br>dollar investment\" in the<br>artificial intelligence<br>startup OpenAI, maker of<br>ChatGPT and other tools that<br>can write readable text and<br>generate new images. The tech<br>giant on Monday described its<br>new agreement as the third<br>stage of a growing partnership<br>with San Francisco-based<br>OpenAI that began with a $1<br>billion investment in 2019.",
           [
            "chatgpt",
            0.5966
           ],
           [
            "openai",
            0.4725
           ],
           [
            "chatbot",
            0.3983
           ],
           [
            "chat",
            0.375
           ],
           [
            "gpt",
            0.369
           ]
          ],
          [
           "GitHub - sonnylazuardi/chatgpt-desktop: OpenAI ChatGPT desktop app for ...",
           "https://github.com/sonnylazuardi/chatgpt-desktop",
           "ChatGPT Desktop App.<br>Unofficial open source OpenAI<br>ChatGPT desktop app for mac,<br>windows, and linux menubar<br>using tauri & rust. Downloads.<br>Windows (2.7 MB) MacOS (2.1<br>MB) Linux .deb (2.3 MB) Linux<br>.rpm (2.1 MB) FAQ Is it safe<br>to login with my account in<br>the app? Yes, it is safe.<br>There is no data transferred<br>in the app (you can check the<br>source).",
           [
            "chatgpt",
            0.5966
           ],
           [
            "openai",
            0.4725
           ],
           [
            "chatbot",
            0.3983
           ],
           [
            "chat",
            0.375
           ],
           [
            "gpt",
            0.369
           ]
          ],
          [
           "Opinion: Google Search Has Nothing to Fear From ChatGPT",
           "https://undark.org/2023/01/19/google-search-has-nothing-to-fear-from-chatgpt/",
           "Microsoft, which made an early<br>$1 billion investment in<br>OpenAI, plans to release an<br>implementation of its Bing<br>search engine that<br>incorporates ChatGPT before<br>the end of March. According to<br>a recent New York Times<br>article, Google has declared<br>\"code red\" over fears ChatGPT<br>could pose a significant<br>threat to its $149-billion-<br>dollar-a-year ...",
           [
            "chatgpt",
            0.5966
           ],
           [
            "openai",
            0.4725
           ],
           [
            "chatbot",
            0.3983
           ],
           [
            "chat",
            0.375
           ],
           [
            "gpt",
            0.369
           ]
          ],
          [
           "ChatGPT: What is OpenAI Chat GPT and how to use it",
           "https://interestingengineering.com/innovation/openai-chatgpt-amusing-responses",
           "What is OpenAI's ChatGPT? In a<br>nutshell, it is a new chatbot<br>developed by OpenAI that is<br>designed to interact with<br>human users as naturally as<br>possible. The chatbot was<br>built from the ground up to<br>...",
           [
            "chatgpt",
            0.5966
           ],
           [
            "openai",
            0.4725
           ],
           [
            "chatbot",
            0.3983
           ],
           [
            "chat",
            0.375
           ],
           [
            "gpt",
            0.369
           ]
          ],
          [
           "Here's how much it costs to run OpenAI's ChatGPT chatbot per day",
           "https://indianexpress.com/article/technology/tech-news-technology/chatgpt-interesting-things-to-know-8334991/",
           "Here are some of the least-<br>known facts about Open AI's<br>ChatGPT that gives us a hint<br>regarding the various aspects<br>of developing and running an<br>AI service.. The cost of<br>running ChatGPT is $100,000<br>per day According to the<br>analysis, ChatGPT is hosted on<br>Microsoft's Azure cloud, so,<br>OpenAI doesn't have to buy a<br>setup physical server room. As<br>per the current rate,<br>Microsoft charges $3 an ...",
           [
            "chatgpt",
            0.5966
           ],
           [
            "openai",
            0.4725
           ],
           [
            "chatbot",
            0.3983
           ],
           [
            "chat",
            0.375
           ],
           [
            "gpt",
            0.369
           ]
          ]
         ],
         "hovertemplate": "color=1<br>umap1=%{x}<br>umap2=%{y}<br>title=%{customdata[0]}<br>href=%{customdata[1]}<br>body=%{customdata[2]}<br>keyword1=%{customdata[3]}<br>keyword2=%{customdata[4]}<br>keyword3=%{customdata[5]}<br>keyword4=%{customdata[6]}<br>keyword5=%{customdata[7]}<extra></extra>",
         "legendgroup": "1",
         "marker": {
          "color": "#19d3f3",
          "symbol": "circle"
         },
         "mode": "markers",
         "name": "1",
         "orientation": "v",
         "showlegend": true,
         "type": "scatter",
         "x": [
          9.042067527770996,
          9.013103485107422,
          8.133309364318848,
          8.769076347351074,
          8.696125030517578,
          7.891045093536377,
          8.508589744567871,
          9.531107902526855,
          9.00253963470459,
          8.879537582397461,
          8.347036361694336,
          9.64892578125,
          9.458901405334473,
          8.837014198303223,
          8.706846237182617,
          8.436125755310059,
          8.933731079101562,
          9.402692794799805
         ],
         "xaxis": "x",
         "y": [
          16.293155670166016,
          16.572389602661133,
          16.54800033569336,
          16.14023780822754,
          16.400854110717773,
          16.558914184570312,
          16.10474967956543,
          16.13321304321289,
          16.60879135131836,
          16.474658966064453,
          16.063684463500977,
          16.370180130004883,
          16.534183502197266,
          16.72673797607422,
          15.948254585266113,
          16.776765823364258,
          15.950418472290039,
          16.489967346191406
         ],
         "yaxis": "y"
        },
        {
         "customdata": [
          [
           "What is ChatGPT and why SEOs should care",
           "https://searchengineland.com/what-is-chatgpt-and-why-seos-should-care-392165",
           "ChatGPT obviously isn't<br>designed to specifically be<br>either an SEO or a content<br>tool (unlike tools like<br>Jasper.ai, Copy.ai and other<br>competitors - many of which<br>are built on top of the GPT-3<br>...",
           [
            "chatgpt",
            0.6082
           ],
           [
            "seo",
            0.3712
           ],
           [
            "seos",
            0.356
           ],
           [
            "google",
            0.2892
           ],
           [
            "web",
            0.2509
           ]
          ],
          [
           "The inside story of ChatGPT: How OpenAI founder Sam Altman built the ...",
           "https://fortune.com/longform/chatgpt-openai-sam-altman-microsoft/",
           "ChatGPT can hold long, fluid<br>dialogues, answer questions,<br>and compose almost any kind of<br>written material a person<br>requests, including business<br>plans, advertising campaigns,<br>poems, jokes, computer ...",
           [
            "chatgpt",
            0.6082
           ],
           [
            "seo",
            0.3712
           ],
           [
            "seos",
            0.356
           ],
           [
            "google",
            0.2892
           ],
           [
            "web",
            0.2509
           ]
          ],
          [
           "11 Things You Can Do With ChatGPT - makeuseof.com",
           "https://www.makeuseof.com/things-you-can-do-with-chatgpt/",
           "Here are 11 cool day-to-day<br>uses for chatGPT. 1. Quickly<br>Write a Customized Resume and<br>Cover Letter. If you're<br>currently job-hunting, one of<br>the most tiring parts of the<br>job application process is<br>writing a personalized resume<br>and cover letter for every job<br>you apply for.",
           [
            "chatgpt",
            0.6082
           ],
           [
            "seo",
            0.3712
           ],
           [
            "seos",
            0.356
           ],
           [
            "google",
            0.2892
           ],
           [
            "web",
            0.2509
           ]
          ],
          [
           "11 Amazing ChatGPT Demos and Examples that will Blow Your Mind",
           "https://machinelearningknowledge.ai/chatgpt-demos-and-examples/",
           "In this example, we asked<br>ChatGPT to create a legal will<br>by letting it know the<br>distribution of wealth between<br>the family member. 9. ChatGPT<br>Demo of Writing SQL Queries.<br>In this demo, we pass a table<br>structure to ChatGPT and ask<br>it to write SQL queries around<br>it and it does the job really<br>well. 10.",
           [
            "chatgpt",
            0.6082
           ],
           [
            "seo",
            0.3712
           ],
           [
            "seos",
            0.356
           ],
           [
            "google",
            0.2892
           ],
           [
            "web",
            0.2509
           ]
          ],
          [
           "6 Ways SEO Pros Are Using ChatGPT Right Now",
           "https://www.searchenginejournal.com/ways-seos-are-using-chatgpt-right-now/475896/",
           "ChatGPT can help you do that.<br>5. Generating Good SEO Titles.<br>Ask any writer, and they'll<br>tell you titles are one of the<br>most difficult things to<br>write, particularly for SEO<br>purposes. All too ...",
           [
            "chatgpt",
            0.6082
           ],
           [
            "seo",
            0.3712
           ],
           [
            "seos",
            0.356
           ],
           [
            "google",
            0.2892
           ],
           [
            "web",
            0.2509
           ]
          ],
          [
           "10 ways blockchain developers can use ChatGPT",
           "https://cointelegraph.com/news/10-ways-blockchain-developers-can-use-chatgpt",
           "ChatGPT is a language model,<br>and its application is limited<br>to text-based systems.<br>Developing a decentralized<br>application (DApp) using<br>ChatGPT can be done in various<br>ways, as explained below:",
           [
            "chatgpt",
            0.6082
           ],
           [
            "seo",
            0.3712
           ],
           [
            "seos",
            0.356
           ],
           [
            "google",
            0.2892
           ],
           [
            "web",
            0.2509
           ]
          ],
          [
           "As a cybersecurity blade, ChatGPT can cut both ways",
           "https://www.techrepublic.com/article/cybersecurity-blade-chatgpt-can-cut-both-ways/",
           "That makes ChatGPT an<br>excellent tool for business<br>email compromise exploits. As<br>a new report from Checkpoint<br>suggests, it's also an easy<br>way for less code-fluent<br>attackers to deploy malware.",
           [
            "chatgpt",
            0.6082
           ],
           [
            "seo",
            0.3712
           ],
           [
            "seos",
            0.356
           ],
           [
            "google",
            0.2892
           ],
           [
            "web",
            0.2509
           ]
          ],
          [
           "Take ChatGPT for a Spin with VS Code Tools",
           "https://visualstudiomagazine.com/articles/2023/01/24/chatgpt-vs-code.aspx",
           "ChatGPT: Export conversation:<br>Exports the whole conversation<br>in Markdown for you to easily<br>store and find the Q&A list.<br>Gençay's tool earned an<br>average 4.7 rating from 19<br>reviewers who had mostly<br>positive feedback. One, from<br>earlier this month, said:<br>\"Very nice extension!! - I<br>think this might be the best<br>implementation directly in<br>VSC.",
           [
            "chatgpt",
            0.6082
           ],
           [
            "seo",
            0.3712
           ],
           [
            "seos",
            0.356
           ],
           [
            "google",
            0.2892
           ],
           [
            "web",
            0.2509
           ]
          ],
          [
           "ChatGPT Assistant - Use AI Everywhere - Chrome Web Store",
           "https://chrome.google.com/webstore/detail/chatgpt-assistant-use-ai/kldepdcdedfibmjnggmolhffdddbphjg",
           "The ultimate Chrome extension<br>for ChatGPT! - Automatically<br>search ChatGPT in Google,<br>Bing, DuckDuckGo, and Brave -<br>Code syntax highlighting -<br>ChatGPT is available as a<br>popup and standalone page -<br>Right click to send selected<br>text to ChatGPT as a prompt -<br>Use ChatGPT from the browser's<br>omnibar - Reuse previously<br>submitted prompts - Configure<br>how the assistant sends<br>prompts https://msfrisbie ...",
           [
            "chatgpt",
            0.6082
           ],
           [
            "seo",
            0.3712
           ],
           [
            "seos",
            0.356
           ],
           [
            "google",
            0.2892
           ],
           [
            "web",
            0.2509
           ]
          ],
          [
           "The best prompts for using ChatGPT for digital marketing",
           "https://www.smartinsights.com/managing-digital-marketing/marketing-innovation/the-best-prompts-for-using-chatgpt-for-digital-marketing/",
           "Organic search ChatGPT prompt<br>examples. Renowned SEO<br>consultant Aleyda Solis has<br>the best summary here,<br>presenting: ChatGPT for SEO:<br>20 Ways to Leverage ChatGPT in<br>your SEO Activities; These<br>include prompts to create<br>alternative titles and meta<br>descriptions for posts. I also<br>recommend these two Chrome<br>extensions which will you find<br>the best ...",
           [
            "chatgpt",
            0.6082
           ],
           [
            "seo",
            0.3712
           ],
           [
            "seos",
            0.356
           ],
           [
            "google",
            0.2892
           ],
           [
            "web",
            0.2509
           ]
          ],
          [
           "Microsoft to add ChatGPT AI to Office and Bing, according to reports",
           "https://www.windowscentral.com/software-apps/microsoft-to-add-chatgpt-ai-to-office-and-bing-according-to-reports",
           "ChatGPT integration would<br>allow users to generate texts<br>using prompts. A separate<br>report claimed that ChatGPT<br>would be integrated into<br>Microsoft's Bing search engine<br>to generate responses to...",
           [
            "chatgpt",
            0.6082
           ],
           [
            "seo",
            0.3712
           ],
           [
            "seos",
            0.356
           ],
           [
            "google",
            0.2892
           ],
           [
            "web",
            0.2509
           ]
          ],
          [
           "The Most Powerful ChatGPT Chrome Extension Is Explained",
           "https://chatgbt.net/2023/01/19/the-most-powerful-chatgpt-chrome-extension-is-explained/",
           "ChatGPT is an extremely useful<br>artificial intelligence, so<br>much so that it is currently<br>being debated whether it will<br>replace Google in the future.<br>Thanks to the mentioned Chrome<br>extension, you can take<br>advantage of ChatGPT while<br>still using standard Google<br>search.",
           [
            "chatgpt",
            0.6082
           ],
           [
            "seo",
            0.3712
           ],
           [
            "seos",
            0.356
           ],
           [
            "google",
            0.2892
           ],
           [
            "web",
            0.2509
           ]
          ],
          [
           "ChatGPT Won't Replace Google Search (Yet) - Moz",
           "https://moz.com/blog/chatgpt-replace-google",
           "ChatGPT Won't Replace Google<br>Search (Yet) Even in the<br>relentless news and noise of<br>early 2023, you've probably<br>heard about ChatGPT, the<br>GPT-3-powered (technically,<br>3.5) chatbot that's eerily<br>able to simulate human-like<br>responses. Consider, for<br>example, this question and<br>answer (created by GPT-3):",
           [
            "chatgpt",
            0.6082
           ],
           [
            "seo",
            0.3712
           ],
           [
            "seos",
            0.356
           ],
           [
            "google",
            0.2892
           ],
           [
            "web",
            0.2509
           ]
          ],
          [
           "Microsoft Opening Access To ChatGPT-Like AI Tools: Satya Nadella",
           "https://news.abplive.com/technology/chatgpt/microsoft-opening-access-to-chatgpt-like-ai-tools-satya-nadella-1576705",
           "ChatGPT, ever since its<br>prototype launch in November<br>2022, has brought a renewed<br>focus on artificial<br>intelligence (AI) and how it<br>can help several industries in<br>terms of automation and<br>perhaps, cutting costs.<br>Microsoft is reportedly<br>looking to integrate ChatGPT<br>in its Bing search engine, in<br>a bid to take on search rival<br>Google.",
           [
            "chatgpt",
            0.6082
           ],
           [
            "seo",
            0.3712
           ],
           [
            "seos",
            0.356
           ],
           [
            "google",
            0.2892
           ],
           [
            "web",
            0.2509
           ]
          ],
          [
           "ChatGPT is at capacity right now; How to bypass?",
           "https://www.thewindowsclub.com/chatgpt-is-at-capacity-right-now",
           "ChatGPT has been in the news.<br>Many have predicted that it<br>might be the next big thing<br>after Google. Whatever the<br>buzz around it, there are many<br>ways you can use the ChatGPT<br>to work for you.",
           [
            "chatgpt",
            0.6082
           ],
           [
            "seo",
            0.3712
           ],
           [
            "seos",
            0.356
           ],
           [
            "google",
            0.2892
           ],
           [
            "web",
            0.2509
           ]
          ],
          [
           "What is ChatGPT and why is everyone talking about it?",
           "https://gulfnews.com/special-reports/what-is-chatgpt-and-why-is-everyone-talking-about-it-1.1670408768965",
           "ChatGPT is an (eerily smart)<br>chatbot while Google is a<br>search engine. May be at some<br>point the tool helps<br>undergraduate students write<br>their papers more thoroughly<br>and help programmers to solve<br>...",
           [
            "chatgpt",
            0.6082
           ],
           [
            "seo",
            0.3712
           ],
           [
            "seos",
            0.356
           ],
           [
            "google",
            0.2892
           ],
           [
            "web",
            0.2509
           ]
          ],
          [
           "What is ChatGPT ? Best use cases for ChatGPT : Aalpha",
           "https://www.aalpha.net/blog/what-is-chatgpt-best-use-cases-for-chatgpt/",
           "Apart from these three use<br>cases, ChatGPT is a fantastic<br>tool for making email<br>composition simple. You won't<br>need to sit in front of your<br>computer screen again<br>contemplating how to write an<br>application mail anymore. Try<br>out the app, and have fun. For<br>this bot, creating recipes is<br>also a more straightforward<br>effort.",
           [
            "chatgpt",
            0.6082
           ],
           [
            "seo",
            0.3712
           ],
           [
            "seos",
            0.356
           ],
           [
            "google",
            0.2892
           ],
           [
            "web",
            0.2509
           ]
          ],
          [
           "Old Video: ChatGPT Founder On How He Plans To Monetise Product",
           "https://www.ndtv.com/feature/old-video-chatgpt-founder-on-how-he-plans-to-monetise-product-3727149",
           "An old video of ChatGPT CEO<br>Sam Altman has surfaced on the<br>internet. In an interview with<br>StrictlyVC, 3 years ago, Sam<br>Altman was asked how he plans<br>to monetise ChatGPT. His<br>honest reply is ...",
           [
            "chatgpt",
            0.6082
           ],
           [
            "seo",
            0.3712
           ],
           [
            "seos",
            0.356
           ],
           [
            "google",
            0.2892
           ],
           [
            "web",
            0.2509
           ]
          ]
         ],
         "hovertemplate": "color=7<br>umap1=%{x}<br>umap2=%{y}<br>title=%{customdata[0]}<br>href=%{customdata[1]}<br>body=%{customdata[2]}<br>keyword1=%{customdata[3]}<br>keyword2=%{customdata[4]}<br>keyword3=%{customdata[5]}<br>keyword4=%{customdata[6]}<br>keyword5=%{customdata[7]}<extra></extra>",
         "legendgroup": "7",
         "marker": {
          "color": "#FF6692",
          "symbol": "circle"
         },
         "mode": "markers",
         "name": "7",
         "orientation": "v",
         "showlegend": true,
         "type": "scatter",
         "x": [
          9.783746719360352,
          9.225563049316406,
          9.464323043823242,
          9.398292541503906,
          9.97081184387207,
          9.474897384643555,
          9.301323890686035,
          9.202191352844238,
          10.243821144104004,
          10.267285346984863,
          10.147733688354492,
          10.197723388671875,
          10.454404830932617,
          10.357063293457031,
          9.684976577758789,
          10.188639640808105,
          9.162702560424805,
          9.62296199798584
         ],
         "xaxis": "x",
         "y": [
          13.666106224060059,
          13.352709770202637,
          13.711552619934082,
          13.422243118286133,
          13.231307983398438,
          13.961250305175781,
          13.215827941894531,
          13.287334442138672,
          13.89146900177002,
          13.716689109802246,
          13.557719230651855,
          13.842641830444336,
          13.480450630187988,
          13.550775527954102,
          13.80820083618164,
          13.39858627319336,
          13.543251037597656,
          14.183982849121094
         ],
         "yaxis": "y"
        },
        {
         "customdata": [
          [
           "What is ChatGPT? AI technology sends schools scrambling to preserve ...",
           "https://thehill.com/policy/technology/3816348-what-is-chatgpt-ai-technology-sends-schools-scrambling-to-preserve-learning/",
           "ChatGPT is a machine learning<br>model, meaning it improves<br>with increased interaction<br>with users on the platform.<br>ChatGPT evolves with human<br>interactions, with its<br>creators saying this \"dialogue<br>...",
           [
            "chatgpt",
            0.6387
           ],
           [
            "chatbot",
            0.4784
           ],
           [
            "chat",
            0.4373
           ],
           [
            "conversations",
            0.353
           ],
           [
            "technology",
            0.3337
           ]
          ],
          [
           "ChatGPT: Amazon Employees Use Chatbot for Coding, Customer Questions",
           "https://www.businessinsider.com/chatgpt-amazon-employees-use-ai-chatbot-software-coding-customer-questions-2023-1?op=1",
           "Amazon employees are already<br>using ChatGPT for software<br>coding. They also found the AI<br>chatbot can answer tricky AWS<br>customer questions and write<br>cloud training materials.<br>People tour the Amazon ...",
           [
            "chatgpt",
            0.6387
           ],
           [
            "chatbot",
            0.4784
           ],
           [
            "chat",
            0.4373
           ],
           [
            "conversations",
            0.353
           ],
           [
            "technology",
            0.3337
           ]
          ],
          [
           "ChatGPT: What To Know About AI Cover Letters | HuffPost Life",
           "https://www.huffpost.com/entry/chatgpt-cover-letter-job-application_l_63c74a09e4b0c2b49ad19cc6",
           "ChatGPT, which was made free<br>and publicly available by the<br>artificial intelligence lab<br>OpenAI in November, is a<br>chatbot powered by machine<br>learning. People can ask it<br>questions and it provides a<br>quick response based on \"a<br>massive dataset of human-<br>generated text,\" as ChatGPT<br>will tell you.",
           [
            "chatgpt",
            0.6387
           ],
           [
            "chatbot",
            0.4784
           ],
           [
            "chat",
            0.4373
           ],
           [
            "conversations",
            0.353
           ],
           [
            "technology",
            0.3337
           ]
          ],
          [
           "College students ready to embrace ChatGPT | The Hill",
           "https://thehill.com/policy/technology/3821219-college-students-ready-to-embrace-chatgpt/",
           "ChatGPT is a learning language<br>model, meaning that the more<br>people use the program, the<br>smarter it will get. \"With<br>millions of people using these<br>websites, the AI becomes<br>smarter and it becomes ...",
           [
            "chatgpt",
            0.6387
           ],
           [
            "chatbot",
            0.4784
           ],
           [
            "chat",
            0.4373
           ],
           [
            "conversations",
            0.353
           ],
           [
            "technology",
            0.3337
           ]
          ],
          [
           "Chat GPT - Chat with ChatGPT - Apps on Google Play",
           "https://play.google.com/store/apps/details?id=in.shivatech.chatgpt&gl=US",
           "Chat GPT enables you to chat<br>with a Generative Pre-Trained<br>Transformer (GPT) - an GPT-3<br>AI chatbot from the comfort of<br>your Android phone. ChatGPT is<br>designed to engage in natural<br>dialogue with you so you can<br>just go ahead and start<br>chatting. Talk to it about<br>anything - be it the jobs of<br>future, or ideas about how to<br>have a birthday party or ...",
           [
            "chatgpt",
            0.6387
           ],
           [
            "chatbot",
            0.4784
           ],
           [
            "chat",
            0.4373
           ],
           [
            "conversations",
            0.353
           ],
           [
            "technology",
            0.3337
           ]
          ],
          [
           "ChatGPT will need right questions to help businesses: Mark Cuban | Fortune",
           "https://fortune.com/2023/01/19/mark-cuban-chatgpt-success-about-asking-right-questions-generative-ai-in-infancy/",
           "ChatGPT is making waves now<br>but imagine what version 10<br>will be like, says Mark Cuban.<br>Bing Guan—Bloomberg via Getty<br>Images Anyone who's played<br>around with ChatGPT, the<br>artificial intelligence ...",
           [
            "chatgpt",
            0.6387
           ],
           [
            "chatbot",
            0.4784
           ],
           [
            "chat",
            0.4373
           ],
           [
            "conversations",
            0.353
           ],
           [
            "technology",
            0.3337
           ]
          ],
          [
           "12+ Funniest ChatGPT Conversations - Capitalize My Title",
           "https://capitalizemytitle.com/funny-conversations-with-chatgpt/",
           "ChatGPT is an AI chatbot that<br>is built on the latest natural<br>language algorithms (GPT-3.5).<br>GPT-3.5 is the most advanced<br>iteration of natural language<br>processing and builds on GPT-3<br>which was released in 2020 and<br>GPT-2 released in 2019. Users<br>ask the chatbot questions, and<br>ChatGPT responds with human-<br>like responses that, most of<br>the time, rival ...",
           [
            "chatgpt",
            0.6387
           ],
           [
            "chatbot",
            0.4784
           ],
           [
            "chat",
            0.4373
           ],
           [
            "conversations",
            0.353
           ],
           [
            "technology",
            0.3337
           ]
          ],
          [
           "ChatGPT, artificial intelligence, and the future of education - Vox",
           "https://www.vox.com/recode/2022/12/7/23498694/ai-artificial-intelligence-chat-gpt-openai",
           "ChatGPT is another sign that<br>AI is getting a lot better.<br>Rebecca Heilweil is a reporter<br>at Vox covering emerging<br>technology, artificial<br>intelligence, and the supply<br>chain. A few weeks ago,<br>Wharton ...",
           [
            "chatgpt",
            0.6387
           ],
           [
            "chatbot",
            0.4784
           ],
           [
            "chat",
            0.4373
           ],
           [
            "conversations",
            0.353
           ],
           [
            "technology",
            0.3337
           ]
          ],
          [
           "How to use ChatGPT for texting and Tinder without being a jerk - The ...",
           "https://www.washingtonpost.com/technology/2023/01/18/chatgpt-personal-use/",
           "Ask ChatGPT to brainstorm<br>captions, strategies or lists,<br>she suggested. The model is<br>sensitive to small changes in<br>your prompt, so try specifying<br>different audiences, intents<br>and tones of voice.",
           [
            "chatgpt",
            0.6387
           ],
           [
            "chatbot",
            0.4784
           ],
           [
            "chat",
            0.4373
           ],
           [
            "conversations",
            0.353
           ],
           [
            "technology",
            0.3337
           ]
          ],
          [
           "Can ChatGPT review restaurants? Our food critic tests it out.",
           "https://www.chicagotribune.com/dining/ct-food-chatgpt-review-restaurants-tt-20230126-vaooa4xc5zbzxnd5tv72457kc4-story.html",
           "ChatGPT can get more specific,<br>but I found it also became<br>less accurate. When I asked it<br>to write a detailed restaurant<br>review of Alinea, mentioning<br>every single course, it<br>started spitting out ...",
           [
            "chatgpt",
            0.6387
           ],
           [
            "chatbot",
            0.4784
           ],
           [
            "chat",
            0.4373
           ],
           [
            "conversations",
            0.353
           ],
           [
            "technology",
            0.3337
           ]
          ],
          [
           "ChatGPT popularity raises cybersecurity concerns",
           "https://www.financialexpress.com/life/technology-chatgpt-popularity-raises-cybersecurity-concerns-2956846/",
           "ChatGPT (Generative Pre-<br>Trained Transformer) is an<br>artificial intelligence<br>(AI)-powered chatbot launched<br>in November 2022 by OpenAI,<br>which can comprehend and<br>generate natural language or<br>human text.",
           [
            "chatgpt",
            0.6387
           ],
           [
            "chatbot",
            0.4784
           ],
           [
            "chat",
            0.4373
           ],
           [
            "conversations",
            0.353
           ],
           [
            "technology",
            0.3337
           ]
          ],
          [
           "ChatGPT What Is It How To Access Openai Replace Human Jobs Microsoft ...",
           "https://news.abplive.com/technology/chatgpt/chatgpt-what-is-it-how-to-access-openai-replace-human-jobs-microsoft-elon-musk-openai-1576247",
           "ChatGPT fails to answer<br>queries that pertain to events<br>that took place post 2021.<br>While an argument can be made<br>against the above limitations<br>that these could be solved<br>with further AI training and<br>rewriting codes to further<br>fine-tune the program, there<br>is still one very simple task<br>that any AI cannot execute —<br>create.",
           [
            "chatgpt",
            0.6387
           ],
           [
            "chatbot",
            0.4784
           ],
           [
            "chat",
            0.4373
           ],
           [
            "conversations",
            0.353
           ],
           [
            "technology",
            0.3337
           ]
          ],
          [
           "ChatGPT won't kill the college essay. - slate.com",
           "https://slate.com/technology/2022/12/chatgpt-college-essay-plagiarism.html",
           "ChatGPT: If the bat costs $1<br>more than the ball, and the<br>bat and ball cost $1.10 in<br>total, then the ball must cost<br>$1.10 - $1.00 = $0.10. The<br>correct answer is 5 cents.<br>(Trust me.) ChatGPT might ...",
           [
            "chatgpt",
            0.6387
           ],
           [
            "chatbot",
            0.4784
           ],
           [
            "chat",
            0.4373
           ],
           [
            "conversations",
            0.353
           ],
           [
            "technology",
            0.3337
           ]
          ],
          [
           "The 'enormous possibilities' for ChatGPT, according to Josh Bersin",
           "https://hrexecutive.com/the-enormous-possibilities-for-chatgpt-according-to-josh-bersin/",
           "The 'enormous possibilities'<br>for ChatGPT, according to Josh<br>Bersin. January 24, 2023. Josh<br>Bersin. Josh Bersin writes HRE<br>'s HR in the Flow of Work<br>column. Bersin is an analyst,<br>author, educator and thought<br>leader focusing on the global<br>talent market and the<br>challenges and trends<br>impacting business workforces<br>around the world.",
           [
            "chatgpt",
            0.6387
           ],
           [
            "chatbot",
            0.4784
           ],
           [
            "chat",
            0.4373
           ],
           [
            "conversations",
            0.353
           ],
           [
            "technology",
            0.3337
           ]
          ],
          [
           "ChatGPT Download (2023 Latest)",
           "https://www.filehorse.com/download-chatgpt/",
           "ChatGPT is a powerful language<br>model that can generate human-<br>like text. It can be used for<br>a wide range of applications<br>such as content creation,<br>language translation, and<br>conversational AI. Which<br>launched in November 2022, has<br>quickly gained a reputation as<br>an innovative way to interact<br>with Artificial Intelligence.",
           [
            "chatgpt",
            0.6387
           ],
           [
            "chatbot",
            0.4784
           ],
           [
            "chat",
            0.4373
           ],
           [
            "conversations",
            0.353
           ],
           [
            "technology",
            0.3337
           ]
          ],
          [
           "ChatGPT bot passes law school exam - CBS News",
           "https://www.cbsnews.com/news/chatgpt-bot-passes-law-school-exam/",
           "ChatGPT, from OpenAI - a U.S.<br>company that this week got a<br>massive injection of cash from<br>Microsoft - uses artificial<br>intelligence (AI) to generate<br>streams of text from simple<br>prompts.",
           [
            "chatgpt",
            0.6387
           ],
           [
            "chatbot",
            0.4784
           ],
           [
            "chat",
            0.4373
           ],
           [
            "conversations",
            0.353
           ],
           [
            "technology",
            0.3337
           ]
          ],
          [
           "Google Brings Back Founders Page, Brin to Fend Off ChatGPT Threat",
           "https://www.thestreet.com/technology/google-brings-back-founders-page-brin-to-fend-off-chatgpt-threat",
           "ChatGPT stands for \"generative<br>pretrained transformer.\" It is<br>a conversational robot with<br>which humans will be able to<br>converse in natural language.<br>What is innovative is the fact<br>that this...",
           [
            "chatgpt",
            0.6387
           ],
           [
            "chatbot",
            0.4784
           ],
           [
            "chat",
            0.4373
           ],
           [
            "conversations",
            0.353
           ],
           [
            "technology",
            0.3337
           ]
          ],
          [
           "Elevate Your Property Marketing with ChatGPT: Top 3 Input Prompts",
           "https://www.rismedia.com/2023/01/24/elevate-your-property-marketing-with-chatgpt-top-3-input-prompts/",
           "Three Prompt Basics for<br>ChatGPT That Every Agent<br>Should Know. By mastering<br>these basics, you'll be able<br>to get the most out of ChatGPT<br>and create content 10X faster:<br>1. Write at least three to ...",
           [
            "chatgpt",
            0.6387
           ],
           [
            "chatbot",
            0.4784
           ],
           [
            "chat",
            0.4373
           ],
           [
            "conversations",
            0.353
           ],
           [
            "technology",
            0.3337
           ]
          ],
          [
           "Communications is too important for ChatGPT to shortcut",
           "https://venturebeat.com/ai/communications-is-too-important-for-chatgpt-to-shortcut/",
           "Indeed, ChatGPT is much like a<br>robot designed to kick a<br>football. The robot may be<br>able to strike a ball with<br>power and accuracy, but if it<br>cannot run at variable speeds,<br>interchange with its ...",
           [
            "chatgpt",
            0.6387
           ],
           [
            "chatbot",
            0.4784
           ],
           [
            "chat",
            0.4373
           ],
           [
            "conversations",
            0.353
           ],
           [
            "technology",
            0.3337
           ]
          ]
         ],
         "hovertemplate": "color=2<br>umap1=%{x}<br>umap2=%{y}<br>title=%{customdata[0]}<br>href=%{customdata[1]}<br>body=%{customdata[2]}<br>keyword1=%{customdata[3]}<br>keyword2=%{customdata[4]}<br>keyword3=%{customdata[5]}<br>keyword4=%{customdata[6]}<br>keyword5=%{customdata[7]}<extra></extra>",
         "legendgroup": "2",
         "marker": {
          "color": "#B6E880",
          "symbol": "circle"
         },
         "mode": "markers",
         "name": "2",
         "orientation": "v",
         "showlegend": true,
         "type": "scatter",
         "x": [
          7.4133710861206055,
          7.41109561920166,
          8.087772369384766,
          7.208582401275635,
          8.045181274414062,
          7.975570201873779,
          7.080368518829346,
          7.719468116760254,
          7.31770133972168,
          7.668882369995117,
          8.066174507141113,
          7.727916717529297,
          7.992927551269531,
          7.338458061218262,
          6.907350063323975,
          7.934822082519531,
          7.747986316680908,
          8.093411445617676,
          7.902898788452148
         ],
         "xaxis": "x",
         "y": [
          14.663923263549805,
          15.08421516418457,
          14.484973907470703,
          14.940855979919434,
          15.101799011230469,
          14.803443908691406,
          14.821622848510742,
          15.079560279846191,
          14.16569709777832,
          14.175545692443848,
          15.14377212524414,
          14.411062240600586,
          14.29825210571289,
          13.558555603027344,
          14.490973472595215,
          14.029603958129883,
          15.334929466247559,
          13.974853515625,
          14.822183609008789
         ],
         "yaxis": "y"
        },
        {
         "customdata": [
          [
           "5 amazing things people have done with ChatGPT | Digital Trends",
           "https://www.digitaltrends.com/computing/5-amazing-things-with-chatgpt/",
           "ChatGPT is a tool. ChatGPT<br>really is a tool and by that,<br>I mean an amazing personal<br>assistant that can accelerate<br>human potential or fill in a<br>blank canvas and inspire<br>creativity. ChatGPT can be ...",
           [
            "chatgpt",
            0.6901
           ],
           [
            "chatbots",
            0.563
           ],
           [
            "chatbot",
            0.5296
           ],
           [
            "chat",
            0.4988
           ],
           [
            "chatteo",
            0.3485
           ]
          ],
          [
           "ChatGPT Pro: What's the difference between free and paid? | Mashable",
           "https://mashable.com/article/ai-chatgpt-pro-openai",
           "Cost: ChatGPT-professional is<br>a paid service, while ChatGPT<br>is a free to use model. In<br>summary, ChatGPT-professional<br>is a more advanced and<br>powerful version of ChatGPT,<br>designed for use in ...",
           [
            "chatgpt",
            0.6901
           ],
           [
            "chatbots",
            0.563
           ],
           [
            "chatbot",
            0.5296
           ],
           [
            "chat",
            0.4988
           ],
           [
            "chatteo",
            0.3485
           ]
          ],
          [
           "7 Ways to Get the Best Results From ChatGPT - makeuseof.com",
           "https://www.makeuseof.com/how-to-get-best-results-from-chatgpt/",
           "Simply prompting ChatGPT with<br>\"Continue\" for normal text or<br>\"Continue code\" for a broken-<br>off code block will do the<br>magic. 3. Spice Up<br>Conversations With Emojis. AI<br>models like ChatGPT do not<br>have personal feelings or<br>emotions. This could make<br>casual conversation with the<br>chatbot a bit too robotic.",
           [
            "chatgpt",
            0.6901
           ],
           [
            "chatbots",
            0.563
           ],
           [
            "chatbot",
            0.5296
           ],
           [
            "chat",
            0.4988
           ],
           [
            "chatteo",
            0.3485
           ]
          ],
          [
           "AI experts on whether you should be \"terrified\" of ChatGPT",
           "https://www.cbsnews.com/news/ai-experts-on-chatgpt-artificial-intelligence-writing-program/",
           "ChatGPT is artificial<br>intelligence that writes for<br>you, any kind of writing you<br>like - letters, song lyrics,<br>research papers, recipes,<br>therapy sessions, poems,<br>essays, outlines, even<br>software ...",
           [
            "chatgpt",
            0.6901
           ],
           [
            "chatbots",
            0.563
           ],
           [
            "chatbot",
            0.5296
           ],
           [
            "chat",
            0.4988
           ],
           [
            "chatteo",
            0.3485
           ]
          ],
          [
           "ChatGPT Chatteo AI Chat GPT - Apps on Google Play",
           "https://play.google.com/store/apps/details?id=appinventor.ai_work24info.chatgpt&gl=US",
           "The ChatGPT technology is<br>designed to understand the<br>context and respond<br>accordingly, making the<br>conversations with ChatGPT AI<br>Chat GPT's chatbot more<br>natural and human-like. But<br>ChatGPT AI Chat GPT is more<br>than just a chatbot, it's an<br>intelligent, responsive AI<br>companion that's always ready<br>to lend a helping hand.",
           [
            "chatgpt",
            0.6901
           ],
           [
            "chatbots",
            0.563
           ],
           [
            "chatbot",
            0.5296
           ],
           [
            "chat",
            0.4988
           ],
           [
            "chatteo",
            0.3485
           ]
          ],
          [
           "6 scary things ChatGPT has been used for already | Mashable",
           "https://mashable.com/article/chatgpt-scary-uses",
           "Tinder users are using ChatGPT<br>to message matches. Tweet may<br>have been deleted. 5. Phishing<br>and scamming. It's tougher to<br>prove that this one has<br>already happened, but it<br>stands to reason that ...",
           [
            "chatgpt",
            0.6901
           ],
           [
            "chatbots",
            0.563
           ],
           [
            "chatbot",
            0.5296
           ],
           [
            "chat",
            0.4988
           ],
           [
            "chatteo",
            0.3485
           ]
          ],
          [
           "r/ChatGPT - How do I use ChatGPT without a phone number in a supported ...",
           "https://www.reddit.com/r/ChatGPT/comments/zcrrr7/how_do_i_use_chatgpt_without_a_phone_number_in_a/",
           "1. Burger_Destoyer • 1 mo.<br>ago. They mean when creating<br>an account with your google<br>account, it still prompts for<br>the phone number. Although<br>when creating google accounts<br>depending on the method you<br>will be required to use a<br>phone number, there are other<br>links that allow you to create<br>one without it. 2.",
           [
            "chatgpt",
            0.6901
           ],
           [
            "chatbots",
            0.563
           ],
           [
            "chatbot",
            0.5296
           ],
           [
            "chat",
            0.4988
           ],
           [
            "chatteo",
            0.3485
           ]
          ],
          [
           "The AI revolution is here as ChatGPT takes the internet by storm",
           "https://www.investmentnews.com/the-ai-revolution-is-here-chatgpt-232769",
           "ChatGPT took the internet by<br>storm after launching on Nov.<br>30, surpassing 1 million users<br>in just a few days, according<br>to The Wall Street Journal.<br>Students have used it for help<br>with homework or ...",
           [
            "chatgpt",
            0.6901
           ],
           [
            "chatbots",
            0.563
           ],
           [
            "chatbot",
            0.5296
           ],
           [
            "chat",
            0.4988
           ],
           [
            "chatteo",
            0.3485
           ]
          ],
          [
           "ChatGPT, Chatbots and Artificial Intelligence in Education",
           "https://ditchthattextbook.com/ai/",
           "ChatGPT is an artificial<br>intelligence chatbot. Drawing<br>on tons and tons of data and<br>massive processing power, it<br>uses GPT3 technology to let<br>users talk to the AI about<br>practically anything. It'll<br>write you a song. Tell you a<br>story. Make you a list of<br>gifts to buy or reasons to do<br>something. It'll write your<br>lesson plans.",
           [
            "chatgpt",
            0.6901
           ],
           [
            "chatbots",
            0.563
           ],
           [
            "chatbot",
            0.5296
           ],
           [
            "chat",
            0.4988
           ],
           [
            "chatteo",
            0.3485
           ]
          ],
          [
           "ChatGPT—What Is It? How to Use It? (Examples, Tips & More)",
           "https://www.codingem.com/chatgpt/",
           "Essentially, ChatGPT is an AI-<br>based chatbot that can answer<br>any question. It understands<br>complex topics, like physics,<br>maths, and coding. It can<br>solve university-level tasks<br>as well as write entire blog<br>posts, song lyrics, HTML<br>pages, and such. This is a<br>comprehensive guide to using<br>ChatGPT. You will learn how to<br>access ChatGPT, how to start<br>...",
           [
            "chatgpt",
            0.6901
           ],
           [
            "chatbots",
            0.563
           ],
           [
            "chatbot",
            0.5296
           ],
           [
            "chat",
            0.4988
           ],
           [
            "chatteo",
            0.3485
           ]
          ],
          [
           "ChatGPT Can't Tell You How to Start a Business",
           "https://www.businessinsider.com/chagpt-cant-start-a-business-for-you-startup-steps-2023-1?op=1",
           "ChatGPT When I initially<br>visited the site, ChatGPT<br>served me a 404 page — regular<br>outages are a side effect of<br>its sudden popularity. I<br>refreshed the page a few hours<br>later and was finally able ...",
           [
            "chatgpt",
            0.6901
           ],
           [
            "chatbots",
            0.563
           ],
           [
            "chatbot",
            0.5296
           ],
           [
            "chat",
            0.4988
           ],
           [
            "chatteo",
            0.3485
           ]
          ],
          [
           "Chat GPT : The AI chatbot talked up as a potential Google killer",
           "https://interestingengineering.com/science/chatgpt-ai-chatbot-google-killer",
           "ChatGPT is the latest and most<br>impressive artificially<br>intelligent chatbot yet. It<br>was released two weeks ago,<br>and in just five days hit a<br>million users. It's being used<br>so much that its servers ...",
           [
            "chatgpt",
            0.6901
           ],
           [
            "chatbots",
            0.563
           ],
           [
            "chatbot",
            0.5296
           ],
           [
            "chat",
            0.4988
           ],
           [
            "chatteo",
            0.3485
           ]
          ],
          [
           "10 Cool Things You Can Do with ChatGPT | Beebom",
           "https://beebom.com/cool-things-chatgpt/",
           "ChatGPT can also help you<br>extract data from text. All<br>you have to do is provide the<br>text to the chatbot, and tell<br>it what kinds of data to<br>extract and in which format.<br>Take a look at the screenshot<br>below. Get Creative with<br>ChatGPT with these Unique<br>Ideas and Examples Well, those<br>were 10 cool things you can do<br>with ChatGPT.",
           [
            "chatgpt",
            0.6901
           ],
           [
            "chatbots",
            0.563
           ],
           [
            "chatbot",
            0.5296
           ],
           [
            "chat",
            0.4988
           ],
           [
            "chatteo",
            0.3485
           ]
          ],
          [
           "ChatGPT PRO Plan is here: All you need to know.",
           "https://mindtastik.com/chatgpt-pro-plan-is-here-all-you-need-to-know/",
           "The ChatGPT PRO plan offers<br>several benefits over the free<br>version of the model, which<br>will continue to be available.<br>One of the main advantages of<br>the PRO plan is access to more<br>advanced features, such as the<br>ability to fine-tune the model<br>on specific tasks and to use<br>it with a higher volume of<br>data. Additionally, the PRO<br>plan includes ...",
           [
            "chatgpt",
            0.6901
           ],
           [
            "chatbots",
            0.563
           ],
           [
            "chatbot",
            0.5296
           ],
           [
            "chat",
            0.4988
           ],
           [
            "chatteo",
            0.3485
           ]
          ],
          [
           "5 creative ways people are using ChatGPT - Big Think",
           "https://bigthink.com/the-present/chatgpt-ai-language-model/",
           "Key Takeaways. ChatGPT is an<br>artificial intelligence<br>chatbot that can generate<br>surprisingly humanlike text.<br>From comedy to side-hustle<br>gigs, people are already using<br>the new tool in surprising ...",
           [
            "chatgpt",
            0.6901
           ],
           [
            "chatbots",
            0.563
           ],
           [
            "chatbot",
            0.5296
           ],
           [
            "chat",
            0.4988
           ],
           [
            "chatteo",
            0.3485
           ]
          ],
          [
           "ChatGPT: What It Is and What It Can and Cannot Do | JD Supra",
           "https://www.jdsupra.com/legalnews/chatgpt-what-it-is-and-what-it-can-and-9452986/",
           "ChatGPT is not Skynet or HAL<br>9000, but it also is not a<br>trustworthy digital assistant.<br>Like all artificial<br>intelligence to date, it is<br>very good at a limited number<br>of tasks and embarrassingly<br>bad ...",
           [
            "chatgpt",
            0.6901
           ],
           [
            "chatbots",
            0.563
           ],
           [
            "chatbot",
            0.5296
           ],
           [
            "chat",
            0.4988
           ],
           [
            "chatteo",
            0.3485
           ]
          ],
          [
           "10 ChatGPT AI Tools & Products Built Using OpenAI ChatGPT",
           "https://redblink.com/chatgpt-ai-tools-products/",
           "Introduction To ChatGPT.<br>ChatGPT is an artificial<br>intelligence tool that has the<br>potential to revolutionize the<br>way we work. ChatGPT is a<br>platform that allows you to<br>create AI tasks and<br>productivity products using<br>chatbots. These chatbots can<br>be used to automate common<br>tasks or help you with more<br>complex tasks.. For example,<br>say you're a salesperson and<br>you need to send email follow-<br>ups to ...",
           [
            "chatgpt",
            0.6901
           ],
           [
            "chatbots",
            0.563
           ],
           [
            "chatbot",
            0.5296
           ],
           [
            "chat",
            0.4988
           ],
           [
            "chatteo",
            0.3485
           ]
          ]
         ],
         "hovertemplate": "color=3<br>umap1=%{x}<br>umap2=%{y}<br>title=%{customdata[0]}<br>href=%{customdata[1]}<br>body=%{customdata[2]}<br>keyword1=%{customdata[3]}<br>keyword2=%{customdata[4]}<br>keyword3=%{customdata[5]}<br>keyword4=%{customdata[6]}<br>keyword5=%{customdata[7]}<extra></extra>",
         "legendgroup": "3",
         "marker": {
          "color": "#FF97FF",
          "symbol": "circle"
         },
         "mode": "markers",
         "name": "3",
         "orientation": "v",
         "showlegend": true,
         "type": "scatter",
         "x": [
          8.728996276855469,
          9.037352561950684,
          8.817795753479004,
          8.976815223693848,
          8.347339630126953,
          9.078489303588867,
          8.367358207702637,
          9.598163604736328,
          8.660571098327637,
          8.886141777038574,
          9.29323959350586,
          8.911827087402344,
          8.702057838439941,
          9.084818840026855,
          8.48845386505127,
          8.353999137878418,
          8.967646598815918
         ],
         "xaxis": "x",
         "y": [
          14.449004173278809,
          14.320905685424805,
          14.490674018859863,
          13.636818885803223,
          14.510098457336426,
          14.821822166442871,
          14.676900863647461,
          14.732745170593262,
          14.133549690246582,
          14.251665115356445,
          14.850341796875,
          14.73967456817627,
          13.87472152709961,
          14.205745697021484,
          14.54672908782959,
          14.37390422821045,
          14.19106388092041
         ],
         "yaxis": "y"
        },
        {
         "customdata": [
          [
           "When ChatGPT writes scientific abstracts, can it fool study reviewers ...",
           "https://news.northwestern.edu/stories/2023/01/chatgpt-writes-convincing-fake-scientific-abstracts-that-fool-reviewers-in-study/",
           "\"The ChatGPT-generated<br>abstracts were very<br>convincing,\" Gao said,<br>\"because it even knows how<br>large the patient cohort<br>should be when it invents<br>numbers.\" For a study on<br>hypertension, which is common,<br>ChatGPT included tens of<br>thousands of patients in the<br>cohort, while a study on a<br>monkeypox had a much smaller<br>number of participants. ...",
           [
            "chatgpt",
            0.5194
           ],
           [
            "chatbot",
            0.4259
           ],
           [
            "microsoft",
            0.3402
           ],
           [
            "chatting",
            0.3221
           ],
           [
            "blogs",
            0.3176
           ]
          ],
          [
           "ChatGPT can write code. Now researchers say it's good at fixing bugs ...",
           "https://www.zdnet.com/article/chatgpt-can-write-code-now-researchers-say-its-good-at-fixing-bugs-too/",
           "The researchers tested<br>ChatGPT's performance using<br>the QuixBugs bug-fixing<br>benchmark. The automated<br>program repair (APR) systems<br>appear to be at a disadvantage<br>as they were developed prior<br>to 2018 ...",
           [
            "chatgpt",
            0.5194
           ],
           [
            "chatbot",
            0.4259
           ],
           [
            "microsoft",
            0.3402
           ],
           [
            "chatting",
            0.3221
           ],
           [
            "blogs",
            0.3176
           ]
          ],
          [
           "The internet loves ChatGPT, but there's a dark side to the tech",
           "https://www.fastcompany.com/90820090/the-internet-loves-chatgpt-but-theres-a-dark-side-to-the-tech",
           "People have been using ChatGPT<br>to run a virtual Linux<br>machine, answer coding<br>queries, develop business<br>plans, write song lyrics, even<br>pen Shakespearean verses. Yet<br>for all the brouhaha, there<br>are ...",
           [
            "chatgpt",
            0.5194
           ],
           [
            "chatbot",
            0.4259
           ],
           [
            "microsoft",
            0.3402
           ],
           [
            "chatting",
            0.3221
           ],
           [
            "blogs",
            0.3176
           ]
          ],
          [
           "Exploring ChatGPT ERP and non-ERP Use Cases | SAP Blogs",
           "https://blogs.sap.com/2023/01/18/exploring-chatgpt-erp-and-non-erp-use-cases/",
           "ChatGPT is a very promising<br>technology for both ERP and<br>non-ERP use cases. With time<br>its results will become more<br>accurate with continuous<br>learning. Let's try it for<br>some innovative use cases and<br>validate if this is true.<br>Feedback and comments on this<br>blog are welcome. Alert<br>Moderator.",
           [
            "chatgpt",
            0.5194
           ],
           [
            "chatbot",
            0.4259
           ],
           [
            "microsoft",
            0.3402
           ],
           [
            "chatting",
            0.3221
           ],
           [
            "blogs",
            0.3176
           ]
          ],
          [
           "ChatGPT: what can the extraordinary artificial intelligence chatbot do ...",
           "https://www.theguardian.com/technology/2023/jan/13/chatgpt-explainer-what-can-artificial-intelligence-chatbot-do-ai",
           "Ask ChatGPT a question, as<br>millions have in recent weeks,<br>and it will do its best to<br>respond - unless it knows it<br>cannot. The answers are<br>confident and fluently<br>written, even if they are ...",
           [
            "chatgpt",
            0.5194
           ],
           [
            "chatbot",
            0.4259
           ],
           [
            "microsoft",
            0.3402
           ],
           [
            "chatting",
            0.3221
           ],
           [
            "blogs",
            0.3176
           ]
          ],
          [
           "ChatGPT: What Open AI's Chatbot Is Good At (and What It's Not) | Observer",
           "https://observer.com/2023/01/chatgpt-ai-chatbot-best-examples/",
           "ChatGPT has taken the world by<br>storm. Users from various<br>professions have used the tool<br>to answer questions, write<br>essays, generate advertising<br>copy and debug computer codes.",
           [
            "chatgpt",
            0.5194
           ],
           [
            "chatbot",
            0.4259
           ],
           [
            "microsoft",
            0.3402
           ],
           [
            "chatting",
            0.3221
           ],
           [
            "blogs",
            0.3176
           ]
          ],
          [
           "Yes, ChatGPT can write malicious code — but not well",
           "https://www.washingtonpost.com/politics/2023/01/26/yes-chatgpt-can-write-malware-code-not-well/",
           "For now, ChatGPT's potential<br>impact in areas such as<br>writing malware is real but<br>limited, concludes a report<br>from Recorded Future out this<br>morning. Advertisement. Within<br>days of ChatGPT's ...",
           [
            "chatgpt",
            0.5194
           ],
           [
            "chatbot",
            0.4259
           ],
           [
            "microsoft",
            0.3402
           ],
           [
            "chatting",
            0.3221
           ],
           [
            "blogs",
            0.3176
           ]
          ],
          [
           "Using ChatGPT for Customer Service - Help Scout",
           "https://www.helpscout.com/blog/chatgpt-customer-service/",
           "ChatGPT is never stumped; it<br>will always generate an<br>answer. But customer service<br>agents know that the best<br>first response is often a<br>follow-up question to clarify<br>the customer's need or a<br>request for more specific<br>details. The best question,<br>and the phrasing of that<br>question, will depend on the<br>type of customer, their past<br>history, their ...",
           [
            "chatgpt",
            0.5194
           ],
           [
            "chatbot",
            0.4259
           ],
           [
            "microsoft",
            0.3402
           ],
           [
            "chatting",
            0.3221
           ],
           [
            "blogs",
            0.3176
           ]
          ],
          [
           "AsyncRAT Analysis with ChatGPT",
           "https://blogs.quickheal.com/asyncrat-analysis-with-chatgpt/",
           "However, ChatGPT was still<br>able to provide a simplified<br>and understandable explanation<br>of the code's functionality<br>and potential malicious<br>intent. It is important to<br>note that ChatGPT is a<br>powerful language model but it<br>should be used in conjunction<br>with other methods and<br>techniques and is not a silver<br>bullet for all tasks related<br>to malware ...",
           [
            "chatgpt",
            0.5194
           ],
           [
            "chatbot",
            0.4259
           ],
           [
            "microsoft",
            0.3402
           ],
           [
            "chatting",
            0.3221
           ],
           [
            "blogs",
            0.3176
           ]
          ],
          [
           "How ChatGPT Could Change Commercial Real Estate",
           "https://therealdeal.com/2023/01/23/how-chatgpt-could-change-commercial-real-estate/",
           "Whether or not ChatGPT will<br>lead to job cuts is the<br>elephant in the room, but a<br>common sentiment is that it<br>will assist rather than<br>replace real estate<br>professionals. However, as<br>attrition occurs ...",
           [
            "chatgpt",
            0.5194
           ],
           [
            "chatbot",
            0.4259
           ],
           [
            "microsoft",
            0.3402
           ],
           [
            "chatting",
            0.3221
           ],
           [
            "blogs",
            0.3176
           ]
          ],
          [
           "Chatting About Museums with ChatGPT - American Alliance of Museums",
           "https://www.aam-us.org/2023/01/25/chatting-about-museums-with-chatgpt/",
           "ChatGPT: The issue of whether<br>the British Museum should<br>return the Parthenon marbles,<br>also known as the Elgin<br>Marbles, to Greece is a<br>complex and highly debated<br>topic. The marbles were<br>removed from the Parthenon<br>temple in Athens by Lord<br>Elgin, a British diplomat,<br>between 1801 and 1812. Many<br>argue that the marbles were<br>taken without proper ...",
           [
            "chatgpt",
            0.5194
           ],
           [
            "chatbot",
            0.4259
           ],
           [
            "microsoft",
            0.3402
           ],
           [
            "chatting",
            0.3221
           ],
           [
            "blogs",
            0.3176
           ]
          ],
          [
           "Cybercrooks are telling ChatGPT to create malicious code",
           "https://www.theregister.com/2023/01/06/chatgpt_cybercriminals_malicious_code/",
           "Cybercriminals are beginning<br>to use OpenAI's wildly popular<br>ChatGPT technology to quickly<br>and easily develop code for<br>malicious purposes. A spin<br>around underground hacking<br>sites uncovered initial<br>instances of miscreants<br>developing cyberthreat tools<br>using the large language model<br>(LLM) interface that the<br>company unveiled in late<br>November and opened it up for<br>public use, according to<br>infosec ...",
           [
            "chatgpt",
            0.5194
           ],
           [
            "chatbot",
            0.4259
           ],
           [
            "microsoft",
            0.3402
           ],
           [
            "chatting",
            0.3221
           ],
           [
            "blogs",
            0.3176
           ]
          ],
          [
           "ChatGPT: An Introduction To The Tool + Tips To Use It In Marketing",
           "https://www.kimp.io/chatgpt/",
           "ChatGPT can solve this. Kimp<br>Tip: Choosing colors for your<br>marketing designs involves a<br>series of steps. This includes<br>understanding the overall mood<br>of the design, your goal for<br>the design, and your brand<br>colors. Multi-level decision-<br>making is better left to human<br>content creators and designers<br>at the moment.",
           [
            "chatgpt",
            0.5194
           ],
           [
            "chatbot",
            0.4259
           ],
           [
            "microsoft",
            0.3402
           ],
           [
            "chatting",
            0.3221
           ],
           [
            "blogs",
            0.3176
           ]
          ],
          [
           "Jawaharlal Nehru Meets PM Modi on Republic Day 2023, As Imagined by ChatGPT",
           "https://www.thequint.com/news/india/jawaharlal-nehru-prime-minister-modi-conversation-chatgpt-republic-day-2023",
           "Yet, the what-if scenarios<br>that can be played out using<br>ChatGPT knows no bounds. In<br>the spirit of India's 74th<br>Republic Day, here's one such<br>imaginary event that has been<br>brought to life by ...",
           [
            "chatgpt",
            0.5194
           ],
           [
            "chatbot",
            0.4259
           ],
           [
            "microsoft",
            0.3402
           ],
           [
            "chatting",
            0.3221
           ],
           [
            "blogs",
            0.3176
           ]
          ],
          [
           "The 3 Best AI Stocks to Buy as ChatGPT Ushers in Chatbot Revolution",
           "https://investorplace.com/2022/12/the-3-best-ai-stocks-to-buy-as-chatgbt-ushers-in-chatbot-revolution-msft-amzn-epam/",
           "ChatGPT has created a<br>revolutionary new experience<br>for everyone, and it won't be<br>long before every company is<br>utilizing it; Microsoft —<br>Microsoft is the correct<br>choice for a stable and safe<br>...",
           [
            "chatgpt",
            0.5194
           ],
           [
            "chatbot",
            0.4259
           ],
           [
            "microsoft",
            0.3402
           ],
           [
            "chatting",
            0.3221
           ],
           [
            "blogs",
            0.3176
           ]
          ],
          [
           "Google won't make a competitor to Microsoft Azure-powered ChatGPT, at ...",
           "https://www.windowscentral.com/software-apps/google-wont-make-a-competitor-to-microsoft-azure-powered-chatgpt-at-least-for-now",
           "With ChatGPT making the news,<br>Google employees asked the<br>company's bosses if the tech<br>giant has missed an<br>opportunity. According to<br>CNBC, that question was the<br>highest rated inquiry at a<br>recent ...",
           [
            "chatgpt",
            0.5194
           ],
           [
            "chatbot",
            0.4259
           ],
           [
            "microsoft",
            0.3402
           ],
           [
            "chatting",
            0.3221
           ],
           [
            "blogs",
            0.3176
           ]
          ],
          [
           "ChatGPT as a Python Programming Assistant - KDnuggets",
           "https://www.kdnuggets.com/2023/01/chatgpt-python-programming-assistant.html",
           "ChatGPT did a perfectly<br>competent job of creating,<br>refactoring, extending, and<br>adding a wrapper around a<br>simple data preprocessing<br>Python script we wanted it to<br>write for us, from the<br>specifications that we<br>provided. While it wasn't the<br>most complex of programs by a<br>long shot, it was a step in<br>the direction of having<br>ChatGPT be genuinely useful<br>...",
           [
            "chatgpt",
            0.5194
           ],
           [
            "chatbot",
            0.4259
           ],
           [
            "microsoft",
            0.3402
           ],
           [
            "chatting",
            0.3221
           ],
           [
            "blogs",
            0.3176
           ]
          ],
          [
           "How ChatGPT can turn anyone into a ransomware and malware threat actor ...",
           "https://venturebeat.com/security/chatgpt-ransomware-malware/",
           "While ChatGPT hasn't been out<br>long, security researchers<br>have already started to test<br>its capacity to generate<br>malicious code. For instance,<br>Security researcher and co-<br>founder of Picus Security ...",
           [
            "chatgpt",
            0.5194
           ],
           [
            "chatbot",
            0.4259
           ],
           [
            "microsoft",
            0.3402
           ],
           [
            "chatting",
            0.3221
           ],
           [
            "blogs",
            0.3176
           ]
          ]
         ],
         "hovertemplate": "color=0<br>umap1=%{x}<br>umap2=%{y}<br>title=%{customdata[0]}<br>href=%{customdata[1]}<br>body=%{customdata[2]}<br>keyword1=%{customdata[3]}<br>keyword2=%{customdata[4]}<br>keyword3=%{customdata[5]}<br>keyword4=%{customdata[6]}<br>keyword5=%{customdata[7]}<extra></extra>",
         "legendgroup": "0",
         "marker": {
          "color": "#FECB52",
          "symbol": "circle"
         },
         "mode": "markers",
         "name": "0",
         "orientation": "v",
         "showlegend": true,
         "type": "scatter",
         "x": [
          8.585138320922852,
          8.970047950744629,
          8.649295806884766,
          8.716285705566406,
          8.373719215393066,
          9.083395004272461,
          8.289031028747559,
          8.236666679382324,
          8.393877983093262,
          8.53894329071045,
          7.8758864402771,
          7.807188987731934,
          8.187774658203125,
          8.112314224243164,
          8.623847961425781,
          8.440441131591797,
          9.004629135131836,
          8.460801124572754
         ],
         "xaxis": "x",
         "y": [
          12.437355995178223,
          12.659710884094238,
          12.955971717834473,
          13.436361312866211,
          13.224124908447266,
          13.028416633605957,
          12.535309791564941,
          13.692206382751465,
          12.568488121032715,
          13.421172142028809,
          13.488529205322266,
          12.652724266052246,
          13.713656425476074,
          12.914285659790039,
          13.219074249267578,
          13.329154014587402,
          12.803529739379883,
          12.549894332885742
         ],
         "yaxis": "y"
        }
       ],
       "layout": {
        "height": 800,
        "legend": {
         "title": {
          "text": "color"
         },
         "tracegroupgap": 0
        },
        "template": {
         "data": {
          "bar": [
           {
            "error_x": {
             "color": "#2a3f5f"
            },
            "error_y": {
             "color": "#2a3f5f"
            },
            "marker": {
             "line": {
              "color": "#E5ECF6",
              "width": 0.5
             },
             "pattern": {
              "fillmode": "overlay",
              "size": 10,
              "solidity": 0.2
             }
            },
            "type": "bar"
           }
          ],
          "barpolar": [
           {
            "marker": {
             "line": {
              "color": "#E5ECF6",
              "width": 0.5
             },
             "pattern": {
              "fillmode": "overlay",
              "size": 10,
              "solidity": 0.2
             }
            },
            "type": "barpolar"
           }
          ],
          "carpet": [
           {
            "aaxis": {
             "endlinecolor": "#2a3f5f",
             "gridcolor": "white",
             "linecolor": "white",
             "minorgridcolor": "white",
             "startlinecolor": "#2a3f5f"
            },
            "baxis": {
             "endlinecolor": "#2a3f5f",
             "gridcolor": "white",
             "linecolor": "white",
             "minorgridcolor": "white",
             "startlinecolor": "#2a3f5f"
            },
            "type": "carpet"
           }
          ],
          "choropleth": [
           {
            "colorbar": {
             "outlinewidth": 0,
             "ticks": ""
            },
            "type": "choropleth"
           }
          ],
          "contour": [
           {
            "colorbar": {
             "outlinewidth": 0,
             "ticks": ""
            },
            "colorscale": [
             [
              0,
              "#0d0887"
             ],
             [
              0.1111111111111111,
              "#46039f"
             ],
             [
              0.2222222222222222,
              "#7201a8"
             ],
             [
              0.3333333333333333,
              "#9c179e"
             ],
             [
              0.4444444444444444,
              "#bd3786"
             ],
             [
              0.5555555555555556,
              "#d8576b"
             ],
             [
              0.6666666666666666,
              "#ed7953"
             ],
             [
              0.7777777777777778,
              "#fb9f3a"
             ],
             [
              0.8888888888888888,
              "#fdca26"
             ],
             [
              1,
              "#f0f921"
             ]
            ],
            "type": "contour"
           }
          ],
          "contourcarpet": [
           {
            "colorbar": {
             "outlinewidth": 0,
             "ticks": ""
            },
            "type": "contourcarpet"
           }
          ],
          "heatmap": [
           {
            "colorbar": {
             "outlinewidth": 0,
             "ticks": ""
            },
            "colorscale": [
             [
              0,
              "#0d0887"
             ],
             [
              0.1111111111111111,
              "#46039f"
             ],
             [
              0.2222222222222222,
              "#7201a8"
             ],
             [
              0.3333333333333333,
              "#9c179e"
             ],
             [
              0.4444444444444444,
              "#bd3786"
             ],
             [
              0.5555555555555556,
              "#d8576b"
             ],
             [
              0.6666666666666666,
              "#ed7953"
             ],
             [
              0.7777777777777778,
              "#fb9f3a"
             ],
             [
              0.8888888888888888,
              "#fdca26"
             ],
             [
              1,
              "#f0f921"
             ]
            ],
            "type": "heatmap"
           }
          ],
          "heatmapgl": [
           {
            "colorbar": {
             "outlinewidth": 0,
             "ticks": ""
            },
            "colorscale": [
             [
              0,
              "#0d0887"
             ],
             [
              0.1111111111111111,
              "#46039f"
             ],
             [
              0.2222222222222222,
              "#7201a8"
             ],
             [
              0.3333333333333333,
              "#9c179e"
             ],
             [
              0.4444444444444444,
              "#bd3786"
             ],
             [
              0.5555555555555556,
              "#d8576b"
             ],
             [
              0.6666666666666666,
              "#ed7953"
             ],
             [
              0.7777777777777778,
              "#fb9f3a"
             ],
             [
              0.8888888888888888,
              "#fdca26"
             ],
             [
              1,
              "#f0f921"
             ]
            ],
            "type": "heatmapgl"
           }
          ],
          "histogram": [
           {
            "marker": {
             "pattern": {
              "fillmode": "overlay",
              "size": 10,
              "solidity": 0.2
             }
            },
            "type": "histogram"
           }
          ],
          "histogram2d": [
           {
            "colorbar": {
             "outlinewidth": 0,
             "ticks": ""
            },
            "colorscale": [
             [
              0,
              "#0d0887"
             ],
             [
              0.1111111111111111,
              "#46039f"
             ],
             [
              0.2222222222222222,
              "#7201a8"
             ],
             [
              0.3333333333333333,
              "#9c179e"
             ],
             [
              0.4444444444444444,
              "#bd3786"
             ],
             [
              0.5555555555555556,
              "#d8576b"
             ],
             [
              0.6666666666666666,
              "#ed7953"
             ],
             [
              0.7777777777777778,
              "#fb9f3a"
             ],
             [
              0.8888888888888888,
              "#fdca26"
             ],
             [
              1,
              "#f0f921"
             ]
            ],
            "type": "histogram2d"
           }
          ],
          "histogram2dcontour": [
           {
            "colorbar": {
             "outlinewidth": 0,
             "ticks": ""
            },
            "colorscale": [
             [
              0,
              "#0d0887"
             ],
             [
              0.1111111111111111,
              "#46039f"
             ],
             [
              0.2222222222222222,
              "#7201a8"
             ],
             [
              0.3333333333333333,
              "#9c179e"
             ],
             [
              0.4444444444444444,
              "#bd3786"
             ],
             [
              0.5555555555555556,
              "#d8576b"
             ],
             [
              0.6666666666666666,
              "#ed7953"
             ],
             [
              0.7777777777777778,
              "#fb9f3a"
             ],
             [
              0.8888888888888888,
              "#fdca26"
             ],
             [
              1,
              "#f0f921"
             ]
            ],
            "type": "histogram2dcontour"
           }
          ],
          "mesh3d": [
           {
            "colorbar": {
             "outlinewidth": 0,
             "ticks": ""
            },
            "type": "mesh3d"
           }
          ],
          "parcoords": [
           {
            "line": {
             "colorbar": {
              "outlinewidth": 0,
              "ticks": ""
             }
            },
            "type": "parcoords"
           }
          ],
          "pie": [
           {
            "automargin": true,
            "type": "pie"
           }
          ],
          "scatter": [
           {
            "fillpattern": {
             "fillmode": "overlay",
             "size": 10,
             "solidity": 0.2
            },
            "type": "scatter"
           }
          ],
          "scatter3d": [
           {
            "line": {
             "colorbar": {
              "outlinewidth": 0,
              "ticks": ""
             }
            },
            "marker": {
             "colorbar": {
              "outlinewidth": 0,
              "ticks": ""
             }
            },
            "type": "scatter3d"
           }
          ],
          "scattercarpet": [
           {
            "marker": {
             "colorbar": {
              "outlinewidth": 0,
              "ticks": ""
             }
            },
            "type": "scattercarpet"
           }
          ],
          "scattergeo": [
           {
            "marker": {
             "colorbar": {
              "outlinewidth": 0,
              "ticks": ""
             }
            },
            "type": "scattergeo"
           }
          ],
          "scattergl": [
           {
            "marker": {
             "colorbar": {
              "outlinewidth": 0,
              "ticks": ""
             }
            },
            "type": "scattergl"
           }
          ],
          "scattermapbox": [
           {
            "marker": {
             "colorbar": {
              "outlinewidth": 0,
              "ticks": ""
             }
            },
            "type": "scattermapbox"
           }
          ],
          "scatterpolar": [
           {
            "marker": {
             "colorbar": {
              "outlinewidth": 0,
              "ticks": ""
             }
            },
            "type": "scatterpolar"
           }
          ],
          "scatterpolargl": [
           {
            "marker": {
             "colorbar": {
              "outlinewidth": 0,
              "ticks": ""
             }
            },
            "type": "scatterpolargl"
           }
          ],
          "scatterternary": [
           {
            "marker": {
             "colorbar": {
              "outlinewidth": 0,
              "ticks": ""
             }
            },
            "type": "scatterternary"
           }
          ],
          "surface": [
           {
            "colorbar": {
             "outlinewidth": 0,
             "ticks": ""
            },
            "colorscale": [
             [
              0,
              "#0d0887"
             ],
             [
              0.1111111111111111,
              "#46039f"
             ],
             [
              0.2222222222222222,
              "#7201a8"
             ],
             [
              0.3333333333333333,
              "#9c179e"
             ],
             [
              0.4444444444444444,
              "#bd3786"
             ],
             [
              0.5555555555555556,
              "#d8576b"
             ],
             [
              0.6666666666666666,
              "#ed7953"
             ],
             [
              0.7777777777777778,
              "#fb9f3a"
             ],
             [
              0.8888888888888888,
              "#fdca26"
             ],
             [
              1,
              "#f0f921"
             ]
            ],
            "type": "surface"
           }
          ],
          "table": [
           {
            "cells": {
             "fill": {
              "color": "#EBF0F8"
             },
             "line": {
              "color": "white"
             }
            },
            "header": {
             "fill": {
              "color": "#C8D4E3"
             },
             "line": {
              "color": "white"
             }
            },
            "type": "table"
           }
          ]
         },
         "layout": {
          "annotationdefaults": {
           "arrowcolor": "#2a3f5f",
           "arrowhead": 0,
           "arrowwidth": 1
          },
          "autotypenumbers": "strict",
          "coloraxis": {
           "colorbar": {
            "outlinewidth": 0,
            "ticks": ""
           }
          },
          "colorscale": {
           "diverging": [
            [
             0,
             "#8e0152"
            ],
            [
             0.1,
             "#c51b7d"
            ],
            [
             0.2,
             "#de77ae"
            ],
            [
             0.3,
             "#f1b6da"
            ],
            [
             0.4,
             "#fde0ef"
            ],
            [
             0.5,
             "#f7f7f7"
            ],
            [
             0.6,
             "#e6f5d0"
            ],
            [
             0.7,
             "#b8e186"
            ],
            [
             0.8,
             "#7fbc41"
            ],
            [
             0.9,
             "#4d9221"
            ],
            [
             1,
             "#276419"
            ]
           ],
           "sequential": [
            [
             0,
             "#0d0887"
            ],
            [
             0.1111111111111111,
             "#46039f"
            ],
            [
             0.2222222222222222,
             "#7201a8"
            ],
            [
             0.3333333333333333,
             "#9c179e"
            ],
            [
             0.4444444444444444,
             "#bd3786"
            ],
            [
             0.5555555555555556,
             "#d8576b"
            ],
            [
             0.6666666666666666,
             "#ed7953"
            ],
            [
             0.7777777777777778,
             "#fb9f3a"
            ],
            [
             0.8888888888888888,
             "#fdca26"
            ],
            [
             1,
             "#f0f921"
            ]
           ],
           "sequentialminus": [
            [
             0,
             "#0d0887"
            ],
            [
             0.1111111111111111,
             "#46039f"
            ],
            [
             0.2222222222222222,
             "#7201a8"
            ],
            [
             0.3333333333333333,
             "#9c179e"
            ],
            [
             0.4444444444444444,
             "#bd3786"
            ],
            [
             0.5555555555555556,
             "#d8576b"
            ],
            [
             0.6666666666666666,
             "#ed7953"
            ],
            [
             0.7777777777777778,
             "#fb9f3a"
            ],
            [
             0.8888888888888888,
             "#fdca26"
            ],
            [
             1,
             "#f0f921"
            ]
           ]
          },
          "colorway": [
           "#636efa",
           "#EF553B",
           "#00cc96",
           "#ab63fa",
           "#FFA15A",
           "#19d3f3",
           "#FF6692",
           "#B6E880",
           "#FF97FF",
           "#FECB52"
          ],
          "font": {
           "color": "#2a3f5f"
          },
          "geo": {
           "bgcolor": "white",
           "lakecolor": "white",
           "landcolor": "#E5ECF6",
           "showlakes": true,
           "showland": true,
           "subunitcolor": "white"
          },
          "hoverlabel": {
           "align": "left"
          },
          "hovermode": "closest",
          "mapbox": {
           "style": "light"
          },
          "paper_bgcolor": "white",
          "plot_bgcolor": "#E5ECF6",
          "polar": {
           "angularaxis": {
            "gridcolor": "white",
            "linecolor": "white",
            "ticks": ""
           },
           "bgcolor": "#E5ECF6",
           "radialaxis": {
            "gridcolor": "white",
            "linecolor": "white",
            "ticks": ""
           }
          },
          "scene": {
           "xaxis": {
            "backgroundcolor": "#E5ECF6",
            "gridcolor": "white",
            "gridwidth": 2,
            "linecolor": "white",
            "showbackground": true,
            "ticks": "",
            "zerolinecolor": "white"
           },
           "yaxis": {
            "backgroundcolor": "#E5ECF6",
            "gridcolor": "white",
            "gridwidth": 2,
            "linecolor": "white",
            "showbackground": true,
            "ticks": "",
            "zerolinecolor": "white"
           },
           "zaxis": {
            "backgroundcolor": "#E5ECF6",
            "gridcolor": "white",
            "gridwidth": 2,
            "linecolor": "white",
            "showbackground": true,
            "ticks": "",
            "zerolinecolor": "white"
           }
          },
          "shapedefaults": {
           "line": {
            "color": "#2a3f5f"
           }
          },
          "ternary": {
           "aaxis": {
            "gridcolor": "white",
            "linecolor": "white",
            "ticks": ""
           },
           "baxis": {
            "gridcolor": "white",
            "linecolor": "white",
            "ticks": ""
           },
           "bgcolor": "#E5ECF6",
           "caxis": {
            "gridcolor": "white",
            "linecolor": "white",
            "ticks": ""
           }
          },
          "title": {
           "x": 0.05
          },
          "xaxis": {
           "automargin": true,
           "gridcolor": "white",
           "linecolor": "white",
           "ticks": "",
           "title": {
            "standoff": 15
           },
           "zerolinecolor": "white",
           "zerolinewidth": 2
          },
          "yaxis": {
           "automargin": true,
           "gridcolor": "white",
           "linecolor": "white",
           "ticks": "",
           "title": {
            "standoff": 15
           },
           "zerolinecolor": "white",
           "zerolinewidth": 2
          }
         }
        },
        "title": {
         "text": "news tweets"
        },
        "width": 800,
        "xaxis": {
         "anchor": "y",
         "domain": [
          0,
          1
         ],
         "title": {
          "text": "umap1"
         }
        },
        "yaxis": {
         "anchor": "x",
         "domain": [
          0,
          1
         ],
         "title": {
          "text": "umap2"
         }
        }
       }
      }
     },
     "metadata": {},
     "output_type": "display_data"
    }
   ],
   "source": [
    "import plotly.express as px\n",
    "import textwrap\n",
    "from ipywidgets import interactive, HBox, VBox\n",
    "import plotly.graph_objs as go\n",
    "\n",
    "to_display = 'body'\n",
    "\n",
    "# Test the visuals\n",
    "dat[to_display] = dat[to_display].str.wrap(30)\n",
    "dat[to_display] = dat[to_display].apply(lambda x: x.replace('\\n', '<br>'))\n",
    "labels_cat = dat['cluster'].astype(\"category\")\n",
    "columns = ['title', 'href', 'body'] + ['keyword' + str(i) for i in range(1, 6)] \n",
    "f = px.scatter(dat, x ='umap1', y ='umap2', hover_data=columns, width = 800, height = 800, title = 'news tweets', color = labels_cat)\n",
    "\n",
    "display(f)"
   ]
  },
  {
   "cell_type": "code",
   "execution_count": null,
   "id": "d6d8d92a-4a93-4b89-a27a-94c572f6d913",
   "metadata": {},
   "outputs": [],
   "source": []
  },
  {
   "cell_type": "code",
   "execution_count": null,
   "id": "87532693-8b70-4fb1-b7c9-57c5e698f6c2",
   "metadata": {},
   "outputs": [],
   "source": []
  }
 ],
 "metadata": {
  "kernelspec": {
   "display_name": "myenv",
   "language": "python",
   "name": "python3"
  },
  "language_info": {
   "codemirror_mode": {
    "name": "ipython",
    "version": 3
   },
   "file_extension": ".py",
   "mimetype": "text/x-python",
   "name": "python",
   "nbconvert_exporter": "python",
   "pygments_lexer": "ipython3",
   "version": "3.9.7"
  },
  "vscode": {
   "interpreter": {
    "hash": "c150c64ce95b41ad160c4cc6334bdcef43be46fa24eb4f995c3d494f8458d936"
   }
  }
 },
 "nbformat": 4,
 "nbformat_minor": 5
}
